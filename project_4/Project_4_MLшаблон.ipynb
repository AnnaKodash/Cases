{
 "cells": [
  {
   "attachments": {},
   "cell_type": "markdown",
   "id": "c353de9a",
   "metadata": {},
   "source": [
    "# Задача классификации"
   ]
  },
  {
   "cell_type": "markdown",
   "metadata": {},
   "source": [
    "Бизнес-задача: определить характеристики, по которым можно выявить клиентов, более склонных к открытию депозита в банке, и за счёт этого повысить результативность маркетинговой кампании.\n",
    "\n",
    "Основная цель проекта: построить модель машинного обучения, которая на основе предложенных характеристик клиента будет предсказывать, воспользуется он предложением об открытии депозита или нет."
   ]
  },
  {
   "cell_type": "markdown",
   "metadata": {},
   "source": [
    "#### Импорт библиотек"
   ]
  },
  {
   "cell_type": "code",
   "execution_count": 2,
   "id": "4a6e54dc",
   "metadata": {},
   "outputs": [],
   "source": [
    "import pandas as pd\n",
    "import numpy as np\n",
    "import matplotlib.pyplot as plt\n",
    "import seaborn as sns\n",
    "from  sklearn.ensemble import IsolationForest\n",
    "from sklearn.preprocessing  import LabelEncoder\n",
    "from sklearn import linear_model \n",
    "from sklearn import tree \n",
    "from sklearn import ensemble \n",
    "from sklearn import metrics \n",
    "from sklearn import preprocessing \n",
    "from sklearn.model_selection import train_test_split \n",
    "from sklearn.feature_selection import SelectKBest, f_classif\n",
    "import warnings\n",
    "warnings.filterwarnings('ignore')"
   ]
  },
  {
   "cell_type": "code",
   "execution_count": 82,
   "id": "8f1b8382",
   "metadata": {},
   "outputs": [],
   "source": [
    "#def rmse(y_true, y_pred):\n",
    "    #return metrics.mean_squared_error(y_true, y_pred, squared = False)"
   ]
  },
  {
   "attachments": {},
   "cell_type": "markdown",
   "id": "71559b60",
   "metadata": {},
   "source": [
    "#### Первичная обработка данных"
   ]
  },
  {
   "cell_type": "code",
   "execution_count": 3,
   "id": "20730cd7",
   "metadata": {},
   "outputs": [
    {
     "data": {
      "text/html": [
       "<div>\n",
       "<style scoped>\n",
       "    .dataframe tbody tr th:only-of-type {\n",
       "        vertical-align: middle;\n",
       "    }\n",
       "\n",
       "    .dataframe tbody tr th {\n",
       "        vertical-align: top;\n",
       "    }\n",
       "\n",
       "    .dataframe thead th {\n",
       "        text-align: right;\n",
       "    }\n",
       "</style>\n",
       "<table border=\"1\" class=\"dataframe\">\n",
       "  <thead>\n",
       "    <tr style=\"text-align: right;\">\n",
       "      <th></th>\n",
       "      <th>age</th>\n",
       "      <th>job</th>\n",
       "      <th>marital</th>\n",
       "      <th>education</th>\n",
       "      <th>default</th>\n",
       "      <th>balance</th>\n",
       "      <th>housing</th>\n",
       "      <th>loan</th>\n",
       "      <th>contact</th>\n",
       "      <th>day</th>\n",
       "      <th>month</th>\n",
       "      <th>duration</th>\n",
       "      <th>campaign</th>\n",
       "      <th>pdays</th>\n",
       "      <th>previous</th>\n",
       "      <th>poutcome</th>\n",
       "      <th>deposit</th>\n",
       "    </tr>\n",
       "  </thead>\n",
       "  <tbody>\n",
       "    <tr>\n",
       "      <th>0</th>\n",
       "      <td>59</td>\n",
       "      <td>admin.</td>\n",
       "      <td>married</td>\n",
       "      <td>secondary</td>\n",
       "      <td>no</td>\n",
       "      <td>2 343,00 $</td>\n",
       "      <td>yes</td>\n",
       "      <td>no</td>\n",
       "      <td>unknown</td>\n",
       "      <td>5</td>\n",
       "      <td>may</td>\n",
       "      <td>1042</td>\n",
       "      <td>1</td>\n",
       "      <td>-1</td>\n",
       "      <td>0</td>\n",
       "      <td>unknown</td>\n",
       "      <td>yes</td>\n",
       "    </tr>\n",
       "    <tr>\n",
       "      <th>1</th>\n",
       "      <td>56</td>\n",
       "      <td>admin.</td>\n",
       "      <td>married</td>\n",
       "      <td>secondary</td>\n",
       "      <td>no</td>\n",
       "      <td>45,00 $</td>\n",
       "      <td>no</td>\n",
       "      <td>no</td>\n",
       "      <td>unknown</td>\n",
       "      <td>5</td>\n",
       "      <td>may</td>\n",
       "      <td>1467</td>\n",
       "      <td>1</td>\n",
       "      <td>-1</td>\n",
       "      <td>0</td>\n",
       "      <td>unknown</td>\n",
       "      <td>yes</td>\n",
       "    </tr>\n",
       "    <tr>\n",
       "      <th>2</th>\n",
       "      <td>41</td>\n",
       "      <td>technician</td>\n",
       "      <td>married</td>\n",
       "      <td>secondary</td>\n",
       "      <td>no</td>\n",
       "      <td>1 270,00 $</td>\n",
       "      <td>yes</td>\n",
       "      <td>no</td>\n",
       "      <td>unknown</td>\n",
       "      <td>5</td>\n",
       "      <td>may</td>\n",
       "      <td>1389</td>\n",
       "      <td>1</td>\n",
       "      <td>-1</td>\n",
       "      <td>0</td>\n",
       "      <td>unknown</td>\n",
       "      <td>yes</td>\n",
       "    </tr>\n",
       "    <tr>\n",
       "      <th>3</th>\n",
       "      <td>55</td>\n",
       "      <td>services</td>\n",
       "      <td>married</td>\n",
       "      <td>secondary</td>\n",
       "      <td>no</td>\n",
       "      <td>2 476,00 $</td>\n",
       "      <td>yes</td>\n",
       "      <td>no</td>\n",
       "      <td>unknown</td>\n",
       "      <td>5</td>\n",
       "      <td>may</td>\n",
       "      <td>579</td>\n",
       "      <td>1</td>\n",
       "      <td>-1</td>\n",
       "      <td>0</td>\n",
       "      <td>unknown</td>\n",
       "      <td>yes</td>\n",
       "    </tr>\n",
       "    <tr>\n",
       "      <th>4</th>\n",
       "      <td>54</td>\n",
       "      <td>admin.</td>\n",
       "      <td>married</td>\n",
       "      <td>tertiary</td>\n",
       "      <td>no</td>\n",
       "      <td>184,00 $</td>\n",
       "      <td>no</td>\n",
       "      <td>no</td>\n",
       "      <td>unknown</td>\n",
       "      <td>5</td>\n",
       "      <td>may</td>\n",
       "      <td>673</td>\n",
       "      <td>2</td>\n",
       "      <td>-1</td>\n",
       "      <td>0</td>\n",
       "      <td>unknown</td>\n",
       "      <td>yes</td>\n",
       "    </tr>\n",
       "  </tbody>\n",
       "</table>\n",
       "</div>"
      ],
      "text/plain": [
       "   age         job  marital  education default       balance housing loan  \\\n",
       "0   59      admin.  married  secondary      no   2 343,00 $      yes   no   \n",
       "1   56      admin.  married  secondary      no      45,00 $       no   no   \n",
       "2   41  technician  married  secondary      no   1 270,00 $      yes   no   \n",
       "3   55    services  married  secondary      no   2 476,00 $      yes   no   \n",
       "4   54      admin.  married   tertiary      no     184,00 $       no   no   \n",
       "\n",
       "   contact  day month  duration  campaign  pdays  previous poutcome deposit  \n",
       "0  unknown    5   may      1042         1     -1         0  unknown     yes  \n",
       "1  unknown    5   may      1467         1     -1         0  unknown     yes  \n",
       "2  unknown    5   may      1389         1     -1         0  unknown     yes  \n",
       "3  unknown    5   may       579         1     -1         0  unknown     yes  \n",
       "4  unknown    5   may       673         2     -1         0  unknown     yes  "
      ]
     },
     "execution_count": 3,
     "metadata": {},
     "output_type": "execute_result"
    }
   ],
   "source": [
    "# Прочитаем датасет\n",
    "df = pd.read_csv('data/bank_fin.csv', sep = ';')\n",
    "df.head()"
   ]
  },
  {
   "cell_type": "code",
   "execution_count": 4,
   "id": "ba11dc67",
   "metadata": {},
   "outputs": [
    {
     "name": "stdout",
     "output_type": "stream",
     "text": [
      "<class 'pandas.core.frame.DataFrame'>\n",
      "RangeIndex: 11162 entries, 0 to 11161\n",
      "Data columns (total 17 columns):\n",
      " #   Column     Non-Null Count  Dtype \n",
      "---  ------     --------------  ----- \n",
      " 0   age        11162 non-null  int64 \n",
      " 1   job        11162 non-null  object\n",
      " 2   marital    11162 non-null  object\n",
      " 3   education  11162 non-null  object\n",
      " 4   default    11162 non-null  object\n",
      " 5   balance    11137 non-null  object\n",
      " 6   housing    11162 non-null  object\n",
      " 7   loan       11162 non-null  object\n",
      " 8   contact    11162 non-null  object\n",
      " 9   day        11162 non-null  int64 \n",
      " 10  month      11162 non-null  object\n",
      " 11  duration   11162 non-null  int64 \n",
      " 12  campaign   11162 non-null  int64 \n",
      " 13  pdays      11162 non-null  int64 \n",
      " 14  previous   11162 non-null  int64 \n",
      " 15  poutcome   11162 non-null  object\n",
      " 16  deposit    11162 non-null  object\n",
      "dtypes: int64(6), object(11)\n",
      "memory usage: 1.4+ MB\n"
     ]
    }
   ],
   "source": [
    "df.info()"
   ]
  },
  {
   "cell_type": "code",
   "execution_count": 84,
   "id": "5f82cb4d",
   "metadata": {},
   "outputs": [
    {
     "data": {
      "text/plain": [
       "age           0\n",
       "job           0\n",
       "marital       0\n",
       "education     0\n",
       "default       0\n",
       "balance      25\n",
       "housing       0\n",
       "loan          0\n",
       "contact       0\n",
       "day           0\n",
       "month         0\n",
       "duration      0\n",
       "campaign      0\n",
       "pdays         0\n",
       "previous      0\n",
       "poutcome      0\n",
       "deposit       0\n",
       "dtype: int64"
      ]
     },
     "execution_count": 84,
     "metadata": {},
     "output_type": "execute_result"
    }
   ],
   "source": [
    "# Смотрим количество пропусков по столбцам\n",
    "df.isnull().sum()"
   ]
  },
  {
   "cell_type": "code",
   "execution_count": 4,
   "id": "bff15dd0",
   "metadata": {},
   "outputs": [
    {
     "data": {
      "text/plain": [
       "0     2 343,00 $ \n",
       "1        45,00 $ \n",
       "2     1 270,00 $ \n",
       "3     2 476,00 $ \n",
       "4       184,00 $ \n",
       "5           0  $ \n",
       "6       830,00 $ \n",
       "7       545,00 $ \n",
       "8         1,00 $ \n",
       "9             NaN\n",
       "Name: balance, dtype: object"
      ]
     },
     "execution_count": 4,
     "metadata": {},
     "output_type": "execute_result"
    }
   ],
   "source": [
    "# Изучим содержимое столбца balance\n",
    "df['balance'].head(10)"
   ]
  },
  {
   "cell_type": "code",
   "execution_count": 5,
   "id": "bdcd5af1",
   "metadata": {},
   "outputs": [],
   "source": [
    "# Создадим функцию для преобразования содержимого столбца balance в число типа float\n",
    "def to_float(x):\n",
    "    x = str(x)\n",
    "    x = x.replace(' ', '').replace(',00', '').replace('$', '')\n",
    "    return x"
   ]
  },
  {
   "cell_type": "code",
   "execution_count": 6,
   "id": "ce0a3d69",
   "metadata": {},
   "outputs": [],
   "source": [
    "# Преобразуем столбец\n",
    "df['balance'] = df['balance'].apply(to_float).astype('float')"
   ]
  },
  {
   "cell_type": "code",
   "execution_count": 7,
   "id": "6a684a63",
   "metadata": {},
   "outputs": [],
   "source": [
    "# Заменом пропуски на медианное значение по столбцу\n",
    "df = df.fillna({'balance':df['balance'].median()})"
   ]
  },
  {
   "cell_type": "code",
   "execution_count": 8,
   "id": "64879dbd",
   "metadata": {},
   "outputs": [
    {
     "data": {
      "text/plain": [
       "0        2343.0\n",
       "1          45.0\n",
       "2        1270.0\n",
       "3        2476.0\n",
       "4         184.0\n",
       "          ...  \n",
       "11157       1.0\n",
       "11158     733.0\n",
       "11159      29.0\n",
       "11160       0.0\n",
       "11161       0.0\n",
       "Name: balance, Length: 11162, dtype: float64"
      ]
     },
     "execution_count": 8,
     "metadata": {},
     "output_type": "execute_result"
    }
   ],
   "source": [
    "df['balance']"
   ]
  },
  {
   "cell_type": "code",
   "execution_count": 9,
   "id": "95f24902",
   "metadata": {},
   "outputs": [
    {
     "data": {
      "text/plain": [
       "age          0\n",
       "job          0\n",
       "marital      0\n",
       "education    0\n",
       "default      0\n",
       "balance      0\n",
       "housing      0\n",
       "loan         0\n",
       "contact      0\n",
       "day          0\n",
       "month        0\n",
       "duration     0\n",
       "campaign     0\n",
       "pdays        0\n",
       "previous     0\n",
       "poutcome     0\n",
       "deposit      0\n",
       "dtype: int64"
      ]
     },
     "execution_count": 9,
     "metadata": {},
     "output_type": "execute_result"
    }
   ],
   "source": [
    "df.isnull().sum()"
   ]
  },
  {
   "cell_type": "code",
   "execution_count": 10,
   "id": "0fa070a6",
   "metadata": {},
   "outputs": [
    {
     "data": {
      "text/plain": [
       "management       2566\n",
       "blue-collar      1944\n",
       "technician       1823\n",
       "admin.           1334\n",
       "services          923\n",
       "retired           778\n",
       "self-employed     405\n",
       "student           360\n",
       "unemployed        357\n",
       "entrepreneur      328\n",
       "housemaid         274\n",
       "unknown            70\n",
       "Name: job, dtype: int64"
      ]
     },
     "execution_count": 10,
     "metadata": {},
     "output_type": "execute_result"
    }
   ],
   "source": [
    "# Изучим категориальные признаки на предмет пропущенных данных\n",
    "df['job'].value_counts()"
   ]
  },
  {
   "cell_type": "code",
   "execution_count": 95,
   "id": "4bea0100",
   "metadata": {},
   "outputs": [
    {
     "data": {
      "text/plain": [
       "secondary    5973\n",
       "tertiary     3689\n",
       "primary      1500\n",
       "Name: education, dtype: int64"
      ]
     },
     "execution_count": 95,
     "metadata": {},
     "output_type": "execute_result"
    }
   ],
   "source": [
    "df['education'].value_counts()"
   ]
  },
  {
   "cell_type": "code",
   "execution_count": 11,
   "id": "28c3db86",
   "metadata": {},
   "outputs": [],
   "source": [
    "# Заменим попуски модальными значениями\n",
    "df['job'] = df['job'].apply(lambda x: 'management' if x == 'unknown' else x)\n",
    "df['education'] = df['education'].apply(lambda x: 'secondary' if x == 'unknown' else x)"
   ]
  },
  {
   "cell_type": "code",
   "execution_count": 12,
   "id": "3b5861f0",
   "metadata": {},
   "outputs": [],
   "source": [
    "# Создадим функцию для выявения выбросов в признаках по межквартильному методу\n",
    "def outliers_iqr(data, feature):\n",
    "    x = data[feature]\n",
    "    quart1, quart3 = x.quantile(0.25), x.quantile(0.75)\n",
    "    iqr = quart3-quart1\n",
    "    low_bound = quart1-(iqr*1.5)\n",
    "    up_bound = quart3+(iqr*1.5)\n",
    "    print(f'low bound: {low_bound}, up bound: {up_bound}')\n",
    "    outliers = data[(x<low_bound)|(x>up_bound)]\n",
    "    cleaned = data[(x>=low_bound)&(x<=up_bound)]\n",
    "    return outliers, cleaned"
   ]
  },
  {
   "cell_type": "code",
   "execution_count": 13,
   "id": "71524f30",
   "metadata": {},
   "outputs": [
    {
     "name": "stdout",
     "output_type": "stream",
     "text": [
      "low bound: -2241.0, up bound: 4063.0\n"
     ]
    }
   ],
   "source": [
    "# Очистим датасет от выбросов по признаку balance\n",
    "outliers, cleaned = outliers_iqr(df, 'balance')"
   ]
  },
  {
   "attachments": {},
   "cell_type": "markdown",
   "id": "5d22b8cd",
   "metadata": {},
   "source": [
    "### Разведывательный анализ"
   ]
  },
  {
   "cell_type": "code",
   "execution_count": 14,
   "id": "6d0cd3a8",
   "metadata": {},
   "outputs": [
    {
     "data": {
      "text/plain": [
       "no     0.536764\n",
       "yes    0.463236\n",
       "Name: deposit, dtype: float64"
      ]
     },
     "execution_count": 14,
     "metadata": {},
     "output_type": "execute_result"
    }
   ],
   "source": [
    "# Посмотрим соотношение классов целевой переменной\n",
    "cleaned['deposit'].value_counts(normalize=True)"
   ]
  },
  {
   "cell_type": "code",
   "execution_count": 22,
   "id": "157636e9",
   "metadata": {},
   "outputs": [
    {
     "data": {
      "text/plain": [
       "Text(0, 0.5, 'Количество')"
      ]
     },
     "execution_count": 22,
     "metadata": {},
     "output_type": "execute_result"
    },
    {
     "data": {
      "image/png": "[encoded data removed]",
      "text/plain": [
       "<Figure size 600x400 with 1 Axes>"
      ]
     },
     "metadata": {},
     "output_type": "display_data"
    }
   ],
   "source": [
    "# Строим график\n",
    "fig = plt.figure(figsize=(6,4))\n",
    "ax = fig.add_axes((1,1,1,1))\n",
    "sns.countplot(cleaned, x='deposit', ax=ax)\n",
    "ax.set_title('Сбалансированность классов')\n",
    "ax.set_xlabel('Открытие депозита')\n",
    "ax.set_ylabel('Количество')"
   ]
  },
  {
   "cell_type": "markdown",
   "metadata": {},
   "source": [
    "Явного дисбаланса не наблюдается\n",
    "\n",
    "Рассчитаем описательные статистики для числовых и категориальных признаков"
   ]
  },
  {
   "cell_type": "code",
   "execution_count": 31,
   "id": "89c3b9bd",
   "metadata": {},
   "outputs": [
    {
     "data": {
      "text/html": [
       "<div>\n",
       "<style scoped>\n",
       "    .dataframe tbody tr th:only-of-type {\n",
       "        vertical-align: middle;\n",
       "    }\n",
       "\n",
       "    .dataframe tbody tr th {\n",
       "        vertical-align: top;\n",
       "    }\n",
       "\n",
       "    .dataframe thead th {\n",
       "        text-align: right;\n",
       "    }\n",
       "</style>\n",
       "<table border=\"1\" class=\"dataframe\">\n",
       "  <thead>\n",
       "    <tr style=\"text-align: right;\">\n",
       "      <th></th>\n",
       "      <th>age</th>\n",
       "      <th>balance</th>\n",
       "      <th>day</th>\n",
       "      <th>duration</th>\n",
       "      <th>campaign</th>\n",
       "      <th>pdays</th>\n",
       "      <th>previous</th>\n",
       "    </tr>\n",
       "  </thead>\n",
       "  <tbody>\n",
       "    <tr>\n",
       "      <th>count</th>\n",
       "      <td>10105.000000</td>\n",
       "      <td>10105.000000</td>\n",
       "      <td>10105.000000</td>\n",
       "      <td>10105.000000</td>\n",
       "      <td>10105.000000</td>\n",
       "      <td>10105.000000</td>\n",
       "      <td>10105.000000</td>\n",
       "    </tr>\n",
       "    <tr>\n",
       "      <th>mean</th>\n",
       "      <td>40.895497</td>\n",
       "      <td>807.653538</td>\n",
       "      <td>15.590302</td>\n",
       "      <td>368.742603</td>\n",
       "      <td>2.517170</td>\n",
       "      <td>51.319644</td>\n",
       "      <td>0.816230</td>\n",
       "    </tr>\n",
       "    <tr>\n",
       "      <th>std</th>\n",
       "      <td>11.734931</td>\n",
       "      <td>994.151966</td>\n",
       "      <td>8.441510</td>\n",
       "      <td>346.651524</td>\n",
       "      <td>2.707159</td>\n",
       "      <td>109.644179</td>\n",
       "      <td>2.243795</td>\n",
       "    </tr>\n",
       "    <tr>\n",
       "      <th>min</th>\n",
       "      <td>18.000000</td>\n",
       "      <td>-2049.000000</td>\n",
       "      <td>1.000000</td>\n",
       "      <td>2.000000</td>\n",
       "      <td>1.000000</td>\n",
       "      <td>-1.000000</td>\n",
       "      <td>0.000000</td>\n",
       "    </tr>\n",
       "    <tr>\n",
       "      <th>25%</th>\n",
       "      <td>32.000000</td>\n",
       "      <td>95.000000</td>\n",
       "      <td>8.000000</td>\n",
       "      <td>137.000000</td>\n",
       "      <td>1.000000</td>\n",
       "      <td>-1.000000</td>\n",
       "      <td>0.000000</td>\n",
       "    </tr>\n",
       "    <tr>\n",
       "      <th>50%</th>\n",
       "      <td>38.000000</td>\n",
       "      <td>445.000000</td>\n",
       "      <td>15.000000</td>\n",
       "      <td>252.000000</td>\n",
       "      <td>2.000000</td>\n",
       "      <td>-1.000000</td>\n",
       "      <td>0.000000</td>\n",
       "    </tr>\n",
       "    <tr>\n",
       "      <th>75%</th>\n",
       "      <td>48.000000</td>\n",
       "      <td>1227.000000</td>\n",
       "      <td>22.000000</td>\n",
       "      <td>490.000000</td>\n",
       "      <td>3.000000</td>\n",
       "      <td>2.000000</td>\n",
       "      <td>1.000000</td>\n",
       "    </tr>\n",
       "    <tr>\n",
       "      <th>max</th>\n",
       "      <td>95.000000</td>\n",
       "      <td>4063.000000</td>\n",
       "      <td>31.000000</td>\n",
       "      <td>3881.000000</td>\n",
       "      <td>43.000000</td>\n",
       "      <td>854.000000</td>\n",
       "      <td>58.000000</td>\n",
       "    </tr>\n",
       "  </tbody>\n",
       "</table>\n",
       "</div>"
      ],
      "text/plain": [
       "                age       balance           day      duration      campaign  \\\n",
       "count  10105.000000  10105.000000  10105.000000  10105.000000  10105.000000   \n",
       "mean      40.895497    807.653538     15.590302    368.742603      2.517170   \n",
       "std       11.734931    994.151966      8.441510    346.651524      2.707159   \n",
       "min       18.000000  -2049.000000      1.000000      2.000000      1.000000   \n",
       "25%       32.000000     95.000000      8.000000    137.000000      1.000000   \n",
       "50%       38.000000    445.000000     15.000000    252.000000      2.000000   \n",
       "75%       48.000000   1227.000000     22.000000    490.000000      3.000000   \n",
       "max       95.000000   4063.000000     31.000000   3881.000000     43.000000   \n",
       "\n",
       "              pdays      previous  \n",
       "count  10105.000000  10105.000000  \n",
       "mean      51.319644      0.816230  \n",
       "std      109.644179      2.243795  \n",
       "min       -1.000000      0.000000  \n",
       "25%       -1.000000      0.000000  \n",
       "50%       -1.000000      0.000000  \n",
       "75%        2.000000      1.000000  \n",
       "max      854.000000     58.000000  "
      ]
     },
     "execution_count": 31,
     "metadata": {},
     "output_type": "execute_result"
    }
   ],
   "source": [
    "cleaned.describe()"
   ]
  },
  {
   "cell_type": "code",
   "execution_count": 34,
   "id": "6bc7e3f8",
   "metadata": {},
   "outputs": [
    {
     "data": {
      "text/html": [
       "<div>\n",
       "<style scoped>\n",
       "    .dataframe tbody tr th:only-of-type {\n",
       "        vertical-align: middle;\n",
       "    }\n",
       "\n",
       "    .dataframe tbody tr th {\n",
       "        vertical-align: top;\n",
       "    }\n",
       "\n",
       "    .dataframe thead th {\n",
       "        text-align: right;\n",
       "    }\n",
       "</style>\n",
       "<table border=\"1\" class=\"dataframe\">\n",
       "  <thead>\n",
       "    <tr style=\"text-align: right;\">\n",
       "      <th></th>\n",
       "      <th>job</th>\n",
       "      <th>marital</th>\n",
       "      <th>education</th>\n",
       "      <th>default</th>\n",
       "      <th>housing</th>\n",
       "      <th>loan</th>\n",
       "      <th>contact</th>\n",
       "      <th>month</th>\n",
       "      <th>poutcome</th>\n",
       "      <th>deposit</th>\n",
       "    </tr>\n",
       "  </thead>\n",
       "  <tbody>\n",
       "    <tr>\n",
       "      <th>count</th>\n",
       "      <td>10105</td>\n",
       "      <td>10105</td>\n",
       "      <td>10105</td>\n",
       "      <td>10105</td>\n",
       "      <td>10105</td>\n",
       "      <td>10105</td>\n",
       "      <td>10105</td>\n",
       "      <td>10105</td>\n",
       "      <td>10105</td>\n",
       "      <td>10105</td>\n",
       "    </tr>\n",
       "    <tr>\n",
       "      <th>unique</th>\n",
       "      <td>11</td>\n",
       "      <td>3</td>\n",
       "      <td>3</td>\n",
       "      <td>2</td>\n",
       "      <td>2</td>\n",
       "      <td>2</td>\n",
       "      <td>3</td>\n",
       "      <td>12</td>\n",
       "      <td>4</td>\n",
       "      <td>2</td>\n",
       "    </tr>\n",
       "    <tr>\n",
       "      <th>top</th>\n",
       "      <td>management</td>\n",
       "      <td>married</td>\n",
       "      <td>secondary</td>\n",
       "      <td>no</td>\n",
       "      <td>no</td>\n",
       "      <td>no</td>\n",
       "      <td>cellular</td>\n",
       "      <td>may</td>\n",
       "      <td>unknown</td>\n",
       "      <td>no</td>\n",
       "    </tr>\n",
       "    <tr>\n",
       "      <th>freq</th>\n",
       "      <td>2315</td>\n",
       "      <td>5715</td>\n",
       "      <td>5517</td>\n",
       "      <td>9939</td>\n",
       "      <td>5243</td>\n",
       "      <td>8712</td>\n",
       "      <td>7283</td>\n",
       "      <td>2617</td>\n",
       "      <td>7570</td>\n",
       "      <td>5424</td>\n",
       "    </tr>\n",
       "  </tbody>\n",
       "</table>\n",
       "</div>"
      ],
      "text/plain": [
       "               job  marital  education default housing   loan   contact  \\\n",
       "count        10105    10105      10105   10105   10105  10105     10105   \n",
       "unique          11        3          3       2       2      2         3   \n",
       "top     management  married  secondary      no      no     no  cellular   \n",
       "freq          2315     5715       5517    9939    5243   8712      7283   \n",
       "\n",
       "        month poutcome deposit  \n",
       "count   10105    10105   10105  \n",
       "unique     12        4       2  \n",
       "top       may  unknown      no  \n",
       "freq     2617     7570    5424  "
      ]
     },
     "execution_count": 34,
     "metadata": {},
     "output_type": "execute_result"
    }
   ],
   "source": [
    "cleaned.describe(include='object')"
   ]
  },
  {
   "cell_type": "markdown",
   "metadata": {},
   "source": [
    "Визуализируем связи между признаками"
   ]
  },
  {
   "cell_type": "markdown",
   "metadata": {},
   "source": [
    "1. Успешность маркетинговой кампании (открытие депозита) по месяцам"
   ]
  },
  {
   "cell_type": "code",
   "execution_count": 21,
   "id": "c240141d",
   "metadata": {},
   "outputs": [
    {
     "data": {
      "text/plain": [
       "Text(0, 0.5, 'Количество')"
      ]
     },
     "execution_count": 21,
     "metadata": {},
     "output_type": "execute_result"
    },
    {
     "data": {
      "image/png": "[encoded data removed]",
      "text/plain": [
       "<Figure size 600x400 with 1 Axes>"
      ]
     },
     "metadata": {},
     "output_type": "display_data"
    }
   ],
   "source": [
    "# Группируем данные по признаку месяца с количественным соотношением по таргету\n",
    "types = cleaned.groupby(\"month\")['deposit'].value_counts(normalize=False).unstack()\n",
    "\n",
    "# Строим график\n",
    "fig = plt.figure(figsize=(6,4))\n",
    "ax = fig.add_axes((1,1,1,1))\n",
    "types.plot(kind='bar', stacked='True', ax=ax)\n",
    "ax.set_title('Сравнение успешности кампании по месяцам')\n",
    "ax.set_xlabel('Месяц')\n",
    "ax.set_ylabel('Количество')\n"
   ]
  },
  {
   "cell_type": "markdown",
   "metadata": {},
   "source": [
    "Мы видим, что результаты по месяцам достаточно сильно отличаются. Месяца с наибольшим количеством клиентов, вовлеченных в маркетинговую кампанию, отличаются большим числом отказов. С другой стороны, в декабре, марте, октябре и сентябре наблюдается значительный перевес в пользу ооткрытия депозита. Это может стать важным диагностическим признаком."
   ]
  },
  {
   "cell_type": "markdown",
   "metadata": {},
   "source": [
    "2. Зависимость таргета от возраста клиента"
   ]
  },
  {
   "cell_type": "code",
   "execution_count": 24,
   "id": "84926dad",
   "metadata": {},
   "outputs": [
    {
     "data": {
      "text/plain": [
       "Text(0, 0.5, 'Количество')"
      ]
     },
     "execution_count": 24,
     "metadata": {},
     "output_type": "execute_result"
    },
    {
     "data": {
      "image/png": "[encoded data removed]",
      "text/plain": [
       "<Figure size 600x400 with 1 Axes>"
      ]
     },
     "metadata": {},
     "output_type": "display_data"
    }
   ],
   "source": [
    "# Создадим признак возрастной группы\n",
    "cleaned['age_group'] = pd.cut(df.age, [0,30,40,50,60,99], labels = ['<30','30-40','40-50','50-60','60+'])\n",
    "\n",
    "# Строим график\n",
    "fig = plt.figure(figsize=(6,4))\n",
    "ax = fig.add_axes((1,1,1,1))\n",
    "sns.countplot(x=\"age_group\", hue=\"deposit\", data=cleaned, ax=ax)\n",
    "ax.set_title('Сравнение успешности кампании по возрастным группам')\n",
    "ax.set_xlabel('Возраст')\n",
    "ax.set_ylabel('Количество')"
   ]
  },
  {
   "cell_type": "markdown",
   "metadata": {},
   "source": [
    "График показывает, что чаще всего по результатам маркетинговой кампании более склонны к открытию депозита клиенты 30-40 лет. В возрастных группах от 30 до 60 лет превалирует отрицательный результат, тогда как в группах до 30 и старше 60 лет клиенты чаще открывают депозит. Это так же указывает на связь возрастного и целевого признаков."
   ]
  },
  {
   "cell_type": "markdown",
   "metadata": {},
   "source": [
    "3. Зависимость целевого признака от семейного статуса"
   ]
  },
  {
   "cell_type": "code",
   "execution_count": 25,
   "id": "efa4e773",
   "metadata": {},
   "outputs": [
    {
     "data": {
      "text/plain": [
       "Text(0, 0.5, 'Семейный статус')"
      ]
     },
     "execution_count": 25,
     "metadata": {},
     "output_type": "execute_result"
    },
    {
     "data": {
      "image/png": "[encoded data removed]",
      "text/plain": [
       "<Figure size 600x400 with 1 Axes>"
      ]
     },
     "metadata": {},
     "output_type": "display_data"
    }
   ],
   "source": [
    "# Строим график\n",
    "fig = plt.figure(figsize=(6,4))\n",
    "ax = fig.add_axes((1,1,1,1))\n",
    "sns.countplot(y='marital', hue='deposit', data=cleaned, ax=ax)\n",
    "ax.set_title('Зависимость успешности кампании от семейного положения')\n",
    "ax.set_xlabel('Количество')\n",
    "ax.set_ylabel('Семейный статус')"
   ]
  },
  {
   "cell_type": "markdown",
   "metadata": {},
   "source": [
    "Как видно из графика, семейное положение также влияет на вероятность успеха маркетинговой кампании. По отношению к общему числу открытых депозитов, большая часть принадлежит женатым людям. В то же время, если человек не в паре, он с большей вероятностью (пусть и незначительно) откроет счет."
   ]
  },
  {
   "cell_type": "markdown",
   "metadata": {},
   "source": [
    "4. Зависимость целевого признака от образования клиента"
   ]
  },
  {
   "cell_type": "code",
   "execution_count": 26,
   "id": "bc6e9fe2",
   "metadata": {},
   "outputs": [
    {
     "data": {
      "text/plain": [
       "Text(0, 0.5, 'Уровень образования')"
      ]
     },
     "execution_count": 26,
     "metadata": {},
     "output_type": "execute_result"
    },
    {
     "data": {
      "image/png": "[encoded data removed]",
      "text/plain": [
       "<Figure size 600x400 with 1 Axes>"
      ]
     },
     "metadata": {},
     "output_type": "display_data"
    }
   ],
   "source": [
    "# Строим график\n",
    "fig = plt.figure(figsize=(6,4))\n",
    "ax = fig.add_axes((1,1,1,1))\n",
    "sns.countplot(y='education', hue='deposit', data=cleaned, ax=ax)\n",
    "ax.set_title('Зависимость успешности кампании от уровня образования')\n",
    "ax.set_xlabel('Количество')\n",
    "ax.set_ylabel('Уровень образования')"
   ]
  },
  {
   "cell_type": "markdown",
   "metadata": {},
   "source": [
    "Здесь мы видим, что клиенты с начальным и средним образованием менее склонны к открытию депозита, чем люди с высшим образованием. Уровень образования тоже может пополнить ряд признаков, оказывающих прямое влияние на таргет."
   ]
  },
  {
   "cell_type": "markdown",
   "metadata": {},
   "source": [
    "5. Влияние профессиональной деятельности клиентов на целевой признак"
   ]
  },
  {
   "cell_type": "code",
   "execution_count": 27,
   "id": "4eecc37b",
   "metadata": {},
   "outputs": [
    {
     "data": {
      "text/plain": [
       "Text(0, 0.5, 'Вид профессиональной деятельности')"
      ]
     },
     "execution_count": 27,
     "metadata": {},
     "output_type": "execute_result"
    },
    {
     "data": {
      "image/png": "[encoded data removed]",
      "text/plain": [
       "<Figure size 600x400 with 1 Axes>"
      ]
     },
     "metadata": {},
     "output_type": "display_data"
    }
   ],
   "source": [
    "# Строим график\n",
    "fig = plt.figure(figsize=(6,4))\n",
    "ax = fig.add_axes((1,1,1,1))\n",
    "sns.countplot(y='job', hue='deposit', data=cleaned, ax=ax)\n",
    "ax.set_title('Зависимость успешности кампании от профессии клиента')\n",
    "ax.set_xlabel('Количество')\n",
    "ax.set_ylabel('Вид профессиональной деятельности')"
   ]
  },
  {
   "cell_type": "markdown",
   "metadata": {},
   "source": [
    "Данный график показывает различное распределение таргета по профессиям. Это говорит о том, что вероятность открытия депозита клиентом отчасти зависит и от рода его деятельности. В своих группах наиболее склонны к открытию депозита студенты, пенсионеры и безработные, как это ни странно.\n",
    "Но от общего количества открытых счетов в результате маркетинговой кампании их, конечно же, не так много."
   ]
  },
  {
   "attachments": {},
   "cell_type": "markdown",
   "id": "dfd805c0",
   "metadata": {},
   "source": [
    "### Преобразование данных"
   ]
  },
  {
   "attachments": {},
   "cell_type": "markdown",
   "id": "e44e715b",
   "metadata": {},
   "source": [
    "### Задание 1"
   ]
  },
  {
   "cell_type": "code",
   "execution_count": 52,
   "id": "1e815773",
   "metadata": {},
   "outputs": [
    {
     "data": {
      "text/plain": [
       "11995"
      ]
     },
     "execution_count": 52,
     "metadata": {},
     "output_type": "execute_result"
    }
   ],
   "source": [
    "# преобразуйте уровни образования\n",
    "# Создание экземпляра класса LabelEncoder()\n",
    "lab_enc = LabelEncoder()\n",
    "\n",
    "# Кодирование признака\n",
    "cleaned['education'] = lab_enc.fit_transform(cleaned['education'])\n",
    "cleaned['education'].sum()"
   ]
  },
  {
   "cell_type": "code",
   "execution_count": 53,
   "id": "e27087a2",
   "metadata": {},
   "outputs": [
    {
     "data": {
      "text/plain": [
       "14524"
      ]
     },
     "execution_count": 53,
     "metadata": {},
     "output_type": "execute_result"
    }
   ],
   "source": [
    "cleaned['age_group'] = lab_enc.fit_transform(cleaned['age_group'])\n",
    "cleaned['age_group'].sum()"
   ]
  },
  {
   "cell_type": "code",
   "execution_count": 54,
   "id": "a5319c37",
   "metadata": {},
   "outputs": [
    {
     "data": {
      "text/html": [
       "<div>\n",
       "<style scoped>\n",
       "    .dataframe tbody tr th:only-of-type {\n",
       "        vertical-align: middle;\n",
       "    }\n",
       "\n",
       "    .dataframe tbody tr th {\n",
       "        vertical-align: top;\n",
       "    }\n",
       "\n",
       "    .dataframe thead th {\n",
       "        text-align: right;\n",
       "    }\n",
       "</style>\n",
       "<table border=\"1\" class=\"dataframe\">\n",
       "  <thead>\n",
       "    <tr style=\"text-align: right;\">\n",
       "      <th></th>\n",
       "      <th>age</th>\n",
       "      <th>job</th>\n",
       "      <th>marital</th>\n",
       "      <th>education</th>\n",
       "      <th>default</th>\n",
       "      <th>balance</th>\n",
       "      <th>housing</th>\n",
       "      <th>loan</th>\n",
       "      <th>contact</th>\n",
       "      <th>day</th>\n",
       "      <th>month</th>\n",
       "      <th>duration</th>\n",
       "      <th>campaign</th>\n",
       "      <th>pdays</th>\n",
       "      <th>previous</th>\n",
       "      <th>poutcome</th>\n",
       "      <th>deposit</th>\n",
       "      <th>age_group</th>\n",
       "    </tr>\n",
       "  </thead>\n",
       "  <tbody>\n",
       "    <tr>\n",
       "      <th>0</th>\n",
       "      <td>59</td>\n",
       "      <td>admin.</td>\n",
       "      <td>married</td>\n",
       "      <td>1</td>\n",
       "      <td>no</td>\n",
       "      <td>2343.0</td>\n",
       "      <td>yes</td>\n",
       "      <td>no</td>\n",
       "      <td>unknown</td>\n",
       "      <td>5</td>\n",
       "      <td>may</td>\n",
       "      <td>1042</td>\n",
       "      <td>1</td>\n",
       "      <td>-1</td>\n",
       "      <td>0</td>\n",
       "      <td>unknown</td>\n",
       "      <td>yes</td>\n",
       "      <td>2</td>\n",
       "    </tr>\n",
       "    <tr>\n",
       "      <th>1</th>\n",
       "      <td>56</td>\n",
       "      <td>admin.</td>\n",
       "      <td>married</td>\n",
       "      <td>1</td>\n",
       "      <td>no</td>\n",
       "      <td>45.0</td>\n",
       "      <td>no</td>\n",
       "      <td>no</td>\n",
       "      <td>unknown</td>\n",
       "      <td>5</td>\n",
       "      <td>may</td>\n",
       "      <td>1467</td>\n",
       "      <td>1</td>\n",
       "      <td>-1</td>\n",
       "      <td>0</td>\n",
       "      <td>unknown</td>\n",
       "      <td>yes</td>\n",
       "      <td>2</td>\n",
       "    </tr>\n",
       "    <tr>\n",
       "      <th>2</th>\n",
       "      <td>41</td>\n",
       "      <td>technician</td>\n",
       "      <td>married</td>\n",
       "      <td>1</td>\n",
       "      <td>no</td>\n",
       "      <td>1270.0</td>\n",
       "      <td>yes</td>\n",
       "      <td>no</td>\n",
       "      <td>unknown</td>\n",
       "      <td>5</td>\n",
       "      <td>may</td>\n",
       "      <td>1389</td>\n",
       "      <td>1</td>\n",
       "      <td>-1</td>\n",
       "      <td>0</td>\n",
       "      <td>unknown</td>\n",
       "      <td>yes</td>\n",
       "      <td>1</td>\n",
       "    </tr>\n",
       "    <tr>\n",
       "      <th>3</th>\n",
       "      <td>55</td>\n",
       "      <td>services</td>\n",
       "      <td>married</td>\n",
       "      <td>1</td>\n",
       "      <td>no</td>\n",
       "      <td>2476.0</td>\n",
       "      <td>yes</td>\n",
       "      <td>no</td>\n",
       "      <td>unknown</td>\n",
       "      <td>5</td>\n",
       "      <td>may</td>\n",
       "      <td>579</td>\n",
       "      <td>1</td>\n",
       "      <td>-1</td>\n",
       "      <td>0</td>\n",
       "      <td>unknown</td>\n",
       "      <td>yes</td>\n",
       "      <td>2</td>\n",
       "    </tr>\n",
       "    <tr>\n",
       "      <th>4</th>\n",
       "      <td>54</td>\n",
       "      <td>admin.</td>\n",
       "      <td>married</td>\n",
       "      <td>2</td>\n",
       "      <td>no</td>\n",
       "      <td>184.0</td>\n",
       "      <td>no</td>\n",
       "      <td>no</td>\n",
       "      <td>unknown</td>\n",
       "      <td>5</td>\n",
       "      <td>may</td>\n",
       "      <td>673</td>\n",
       "      <td>2</td>\n",
       "      <td>-1</td>\n",
       "      <td>0</td>\n",
       "      <td>unknown</td>\n",
       "      <td>yes</td>\n",
       "      <td>2</td>\n",
       "    </tr>\n",
       "  </tbody>\n",
       "</table>\n",
       "</div>"
      ],
      "text/plain": [
       "   age         job  marital  education default  balance housing loan  contact  \\\n",
       "0   59      admin.  married          1      no   2343.0     yes   no  unknown   \n",
       "1   56      admin.  married          1      no     45.0      no   no  unknown   \n",
       "2   41  technician  married          1      no   1270.0     yes   no  unknown   \n",
       "3   55    services  married          1      no   2476.0     yes   no  unknown   \n",
       "4   54      admin.  married          2      no    184.0      no   no  unknown   \n",
       "\n",
       "   day month  duration  campaign  pdays  previous poutcome deposit  age_group  \n",
       "0    5   may      1042         1     -1         0  unknown     yes          2  \n",
       "1    5   may      1467         1     -1         0  unknown     yes          2  \n",
       "2    5   may      1389         1     -1         0  unknown     yes          1  \n",
       "3    5   may       579         1     -1         0  unknown     yes          2  \n",
       "4    5   may       673         2     -1         0  unknown     yes          2  "
      ]
     },
     "execution_count": 54,
     "metadata": {},
     "output_type": "execute_result"
    }
   ],
   "source": [
    "cleaned.head()"
   ]
  },
  {
   "attachments": {},
   "cell_type": "markdown",
   "id": "8c93e73d",
   "metadata": {},
   "source": [
    "### Задания 2 и 3"
   ]
  },
  {
   "cell_type": "code",
   "execution_count": 55,
   "id": "626a5762",
   "metadata": {},
   "outputs": [],
   "source": [
    "# преобразуйте бинарные переменные в представление из нулей и единиц\n",
    "cleaned['deposit'] = cleaned['deposit'].apply(lambda x: 1 if x=='yes' else 0)\n",
    "cleaned['housing'] = cleaned['housing'].apply(lambda x: 1 if x=='yes' else 0)\n",
    "cleaned['default'] = cleaned['default'].apply(lambda x: 1 if x=='yes' else 0)\n",
    "cleaned['loan'] = cleaned['loan'].apply(lambda x: 1 if x=='yes' else 0)"
   ]
  },
  {
   "cell_type": "code",
   "execution_count": 56,
   "id": "31403635",
   "metadata": {},
   "outputs": [
    {
     "data": {
      "text/plain": [
       "0.635"
      ]
     },
     "execution_count": 56,
     "metadata": {},
     "output_type": "execute_result"
    }
   ],
   "source": [
    "round((cleaned['default'].mean()+cleaned['housing'].mean()+cleaned['loan'].mean()),3)"
   ]
  },
  {
   "cell_type": "code",
   "execution_count": 57,
   "id": "830463a8",
   "metadata": {},
   "outputs": [
    {
     "data": {
      "text/html": [
       "<div>\n",
       "<style scoped>\n",
       "    .dataframe tbody tr th:only-of-type {\n",
       "        vertical-align: middle;\n",
       "    }\n",
       "\n",
       "    .dataframe tbody tr th {\n",
       "        vertical-align: top;\n",
       "    }\n",
       "\n",
       "    .dataframe thead th {\n",
       "        text-align: right;\n",
       "    }\n",
       "</style>\n",
       "<table border=\"1\" class=\"dataframe\">\n",
       "  <thead>\n",
       "    <tr style=\"text-align: right;\">\n",
       "      <th></th>\n",
       "      <th>age</th>\n",
       "      <th>education</th>\n",
       "      <th>default</th>\n",
       "      <th>balance</th>\n",
       "      <th>housing</th>\n",
       "      <th>loan</th>\n",
       "      <th>day</th>\n",
       "      <th>duration</th>\n",
       "      <th>campaign</th>\n",
       "      <th>pdays</th>\n",
       "      <th>previous</th>\n",
       "      <th>deposit</th>\n",
       "      <th>age_group</th>\n",
       "    </tr>\n",
       "  </thead>\n",
       "  <tbody>\n",
       "    <tr>\n",
       "      <th>count</th>\n",
       "      <td>10105.000000</td>\n",
       "      <td>10105.000000</td>\n",
       "      <td>10105.000000</td>\n",
       "      <td>10105.000000</td>\n",
       "      <td>10105.000000</td>\n",
       "      <td>10105.000000</td>\n",
       "      <td>10105.000000</td>\n",
       "      <td>10105.000000</td>\n",
       "      <td>10105.000000</td>\n",
       "      <td>10105.000000</td>\n",
       "      <td>10105.000000</td>\n",
       "      <td>10105.000000</td>\n",
       "      <td>10105.000000</td>\n",
       "    </tr>\n",
       "    <tr>\n",
       "      <th>mean</th>\n",
       "      <td>40.895497</td>\n",
       "      <td>1.187036</td>\n",
       "      <td>0.016428</td>\n",
       "      <td>807.653538</td>\n",
       "      <td>0.481148</td>\n",
       "      <td>0.137853</td>\n",
       "      <td>15.590302</td>\n",
       "      <td>368.742603</td>\n",
       "      <td>2.517170</td>\n",
       "      <td>51.319644</td>\n",
       "      <td>0.816230</td>\n",
       "      <td>0.463236</td>\n",
       "      <td>1.437308</td>\n",
       "    </tr>\n",
       "    <tr>\n",
       "      <th>std</th>\n",
       "      <td>11.734931</td>\n",
       "      <td>0.647373</td>\n",
       "      <td>0.127119</td>\n",
       "      <td>994.151966</td>\n",
       "      <td>0.499669</td>\n",
       "      <td>0.344762</td>\n",
       "      <td>8.441510</td>\n",
       "      <td>346.651524</td>\n",
       "      <td>2.707159</td>\n",
       "      <td>109.644179</td>\n",
       "      <td>2.243795</td>\n",
       "      <td>0.498671</td>\n",
       "      <td>1.489490</td>\n",
       "    </tr>\n",
       "    <tr>\n",
       "      <th>min</th>\n",
       "      <td>18.000000</td>\n",
       "      <td>0.000000</td>\n",
       "      <td>0.000000</td>\n",
       "      <td>-2049.000000</td>\n",
       "      <td>0.000000</td>\n",
       "      <td>0.000000</td>\n",
       "      <td>1.000000</td>\n",
       "      <td>2.000000</td>\n",
       "      <td>1.000000</td>\n",
       "      <td>-1.000000</td>\n",
       "      <td>0.000000</td>\n",
       "      <td>0.000000</td>\n",
       "      <td>0.000000</td>\n",
       "    </tr>\n",
       "    <tr>\n",
       "      <th>25%</th>\n",
       "      <td>32.000000</td>\n",
       "      <td>1.000000</td>\n",
       "      <td>0.000000</td>\n",
       "      <td>95.000000</td>\n",
       "      <td>0.000000</td>\n",
       "      <td>0.000000</td>\n",
       "      <td>8.000000</td>\n",
       "      <td>137.000000</td>\n",
       "      <td>1.000000</td>\n",
       "      <td>-1.000000</td>\n",
       "      <td>0.000000</td>\n",
       "      <td>0.000000</td>\n",
       "      <td>0.000000</td>\n",
       "    </tr>\n",
       "    <tr>\n",
       "      <th>50%</th>\n",
       "      <td>38.000000</td>\n",
       "      <td>1.000000</td>\n",
       "      <td>0.000000</td>\n",
       "      <td>445.000000</td>\n",
       "      <td>0.000000</td>\n",
       "      <td>0.000000</td>\n",
       "      <td>15.000000</td>\n",
       "      <td>252.000000</td>\n",
       "      <td>2.000000</td>\n",
       "      <td>-1.000000</td>\n",
       "      <td>0.000000</td>\n",
       "      <td>0.000000</td>\n",
       "      <td>1.000000</td>\n",
       "    </tr>\n",
       "    <tr>\n",
       "      <th>75%</th>\n",
       "      <td>48.000000</td>\n",
       "      <td>2.000000</td>\n",
       "      <td>0.000000</td>\n",
       "      <td>1227.000000</td>\n",
       "      <td>1.000000</td>\n",
       "      <td>0.000000</td>\n",
       "      <td>22.000000</td>\n",
       "      <td>490.000000</td>\n",
       "      <td>3.000000</td>\n",
       "      <td>2.000000</td>\n",
       "      <td>1.000000</td>\n",
       "      <td>1.000000</td>\n",
       "      <td>2.000000</td>\n",
       "    </tr>\n",
       "    <tr>\n",
       "      <th>max</th>\n",
       "      <td>95.000000</td>\n",
       "      <td>2.000000</td>\n",
       "      <td>1.000000</td>\n",
       "      <td>4063.000000</td>\n",
       "      <td>1.000000</td>\n",
       "      <td>1.000000</td>\n",
       "      <td>31.000000</td>\n",
       "      <td>3881.000000</td>\n",
       "      <td>43.000000</td>\n",
       "      <td>854.000000</td>\n",
       "      <td>58.000000</td>\n",
       "      <td>1.000000</td>\n",
       "      <td>4.000000</td>\n",
       "    </tr>\n",
       "  </tbody>\n",
       "</table>\n",
       "</div>"
      ],
      "text/plain": [
       "                age     education       default       balance       housing  \\\n",
       "count  10105.000000  10105.000000  10105.000000  10105.000000  10105.000000   \n",
       "mean      40.895497      1.187036      0.016428    807.653538      0.481148   \n",
       "std       11.734931      0.647373      0.127119    994.151966      0.499669   \n",
       "min       18.000000      0.000000      0.000000  -2049.000000      0.000000   \n",
       "25%       32.000000      1.000000      0.000000     95.000000      0.000000   \n",
       "50%       38.000000      1.000000      0.000000    445.000000      0.000000   \n",
       "75%       48.000000      2.000000      0.000000   1227.000000      1.000000   \n",
       "max       95.000000      2.000000      1.000000   4063.000000      1.000000   \n",
       "\n",
       "               loan           day      duration      campaign         pdays  \\\n",
       "count  10105.000000  10105.000000  10105.000000  10105.000000  10105.000000   \n",
       "mean       0.137853     15.590302    368.742603      2.517170     51.319644   \n",
       "std        0.344762      8.441510    346.651524      2.707159    109.644179   \n",
       "min        0.000000      1.000000      2.000000      1.000000     -1.000000   \n",
       "25%        0.000000      8.000000    137.000000      1.000000     -1.000000   \n",
       "50%        0.000000     15.000000    252.000000      2.000000     -1.000000   \n",
       "75%        0.000000     22.000000    490.000000      3.000000      2.000000   \n",
       "max        1.000000     31.000000   3881.000000     43.000000    854.000000   \n",
       "\n",
       "           previous       deposit     age_group  \n",
       "count  10105.000000  10105.000000  10105.000000  \n",
       "mean       0.816230      0.463236      1.437308  \n",
       "std        2.243795      0.498671      1.489490  \n",
       "min        0.000000      0.000000      0.000000  \n",
       "25%        0.000000      0.000000      0.000000  \n",
       "50%        0.000000      0.000000      1.000000  \n",
       "75%        1.000000      1.000000      2.000000  \n",
       "max       58.000000      1.000000      4.000000  "
      ]
     },
     "execution_count": 57,
     "metadata": {},
     "output_type": "execute_result"
    }
   ],
   "source": [
    "cleaned.describe()\n"
   ]
  },
  {
   "cell_type": "code",
   "execution_count": 58,
   "id": "0f1f9ddb",
   "metadata": {},
   "outputs": [
    {
     "data": {
      "text/html": [
       "<div>\n",
       "<style scoped>\n",
       "    .dataframe tbody tr th:only-of-type {\n",
       "        vertical-align: middle;\n",
       "    }\n",
       "\n",
       "    .dataframe tbody tr th {\n",
       "        vertical-align: top;\n",
       "    }\n",
       "\n",
       "    .dataframe thead th {\n",
       "        text-align: right;\n",
       "    }\n",
       "</style>\n",
       "<table border=\"1\" class=\"dataframe\">\n",
       "  <thead>\n",
       "    <tr style=\"text-align: right;\">\n",
       "      <th></th>\n",
       "      <th>age</th>\n",
       "      <th>job</th>\n",
       "      <th>marital</th>\n",
       "      <th>education</th>\n",
       "      <th>default</th>\n",
       "      <th>balance</th>\n",
       "      <th>housing</th>\n",
       "      <th>loan</th>\n",
       "      <th>contact</th>\n",
       "      <th>day</th>\n",
       "      <th>month</th>\n",
       "      <th>duration</th>\n",
       "      <th>campaign</th>\n",
       "      <th>pdays</th>\n",
       "      <th>previous</th>\n",
       "      <th>poutcome</th>\n",
       "      <th>deposit</th>\n",
       "      <th>age_group</th>\n",
       "    </tr>\n",
       "  </thead>\n",
       "  <tbody>\n",
       "    <tr>\n",
       "      <th>0</th>\n",
       "      <td>59</td>\n",
       "      <td>admin.</td>\n",
       "      <td>married</td>\n",
       "      <td>1</td>\n",
       "      <td>0</td>\n",
       "      <td>2343.0</td>\n",
       "      <td>1</td>\n",
       "      <td>0</td>\n",
       "      <td>unknown</td>\n",
       "      <td>5</td>\n",
       "      <td>may</td>\n",
       "      <td>1042</td>\n",
       "      <td>1</td>\n",
       "      <td>-1</td>\n",
       "      <td>0</td>\n",
       "      <td>unknown</td>\n",
       "      <td>1</td>\n",
       "      <td>2</td>\n",
       "    </tr>\n",
       "    <tr>\n",
       "      <th>1</th>\n",
       "      <td>56</td>\n",
       "      <td>admin.</td>\n",
       "      <td>married</td>\n",
       "      <td>1</td>\n",
       "      <td>0</td>\n",
       "      <td>45.0</td>\n",
       "      <td>0</td>\n",
       "      <td>0</td>\n",
       "      <td>unknown</td>\n",
       "      <td>5</td>\n",
       "      <td>may</td>\n",
       "      <td>1467</td>\n",
       "      <td>1</td>\n",
       "      <td>-1</td>\n",
       "      <td>0</td>\n",
       "      <td>unknown</td>\n",
       "      <td>1</td>\n",
       "      <td>2</td>\n",
       "    </tr>\n",
       "    <tr>\n",
       "      <th>2</th>\n",
       "      <td>41</td>\n",
       "      <td>technician</td>\n",
       "      <td>married</td>\n",
       "      <td>1</td>\n",
       "      <td>0</td>\n",
       "      <td>1270.0</td>\n",
       "      <td>1</td>\n",
       "      <td>0</td>\n",
       "      <td>unknown</td>\n",
       "      <td>5</td>\n",
       "      <td>may</td>\n",
       "      <td>1389</td>\n",
       "      <td>1</td>\n",
       "      <td>-1</td>\n",
       "      <td>0</td>\n",
       "      <td>unknown</td>\n",
       "      <td>1</td>\n",
       "      <td>1</td>\n",
       "    </tr>\n",
       "    <tr>\n",
       "      <th>3</th>\n",
       "      <td>55</td>\n",
       "      <td>services</td>\n",
       "      <td>married</td>\n",
       "      <td>1</td>\n",
       "      <td>0</td>\n",
       "      <td>2476.0</td>\n",
       "      <td>1</td>\n",
       "      <td>0</td>\n",
       "      <td>unknown</td>\n",
       "      <td>5</td>\n",
       "      <td>may</td>\n",
       "      <td>579</td>\n",
       "      <td>1</td>\n",
       "      <td>-1</td>\n",
       "      <td>0</td>\n",
       "      <td>unknown</td>\n",
       "      <td>1</td>\n",
       "      <td>2</td>\n",
       "    </tr>\n",
       "    <tr>\n",
       "      <th>4</th>\n",
       "      <td>54</td>\n",
       "      <td>admin.</td>\n",
       "      <td>married</td>\n",
       "      <td>2</td>\n",
       "      <td>0</td>\n",
       "      <td>184.0</td>\n",
       "      <td>0</td>\n",
       "      <td>0</td>\n",
       "      <td>unknown</td>\n",
       "      <td>5</td>\n",
       "      <td>may</td>\n",
       "      <td>673</td>\n",
       "      <td>2</td>\n",
       "      <td>-1</td>\n",
       "      <td>0</td>\n",
       "      <td>unknown</td>\n",
       "      <td>1</td>\n",
       "      <td>2</td>\n",
       "    </tr>\n",
       "  </tbody>\n",
       "</table>\n",
       "</div>"
      ],
      "text/plain": [
       "   age         job  marital  education  default  balance  housing  loan  \\\n",
       "0   59      admin.  married          1        0   2343.0        1     0   \n",
       "1   56      admin.  married          1        0     45.0        0     0   \n",
       "2   41  technician  married          1        0   1270.0        1     0   \n",
       "3   55    services  married          1        0   2476.0        1     0   \n",
       "4   54      admin.  married          2        0    184.0        0     0   \n",
       "\n",
       "   contact  day month  duration  campaign  pdays  previous poutcome  deposit  \\\n",
       "0  unknown    5   may      1042         1     -1         0  unknown        1   \n",
       "1  unknown    5   may      1467         1     -1         0  unknown        1   \n",
       "2  unknown    5   may      1389         1     -1         0  unknown        1   \n",
       "3  unknown    5   may       579         1     -1         0  unknown        1   \n",
       "4  unknown    5   may       673         2     -1         0  unknown        1   \n",
       "\n",
       "   age_group  \n",
       "0          2  \n",
       "1          2  \n",
       "2          1  \n",
       "3          2  \n",
       "4          2  "
      ]
     },
     "execution_count": 58,
     "metadata": {},
     "output_type": "execute_result"
    }
   ],
   "source": [
    "cleaned.head()"
   ]
  },
  {
   "attachments": {},
   "cell_type": "markdown",
   "id": "c40dc02a",
   "metadata": {},
   "source": [
    "### Задание 4"
   ]
  },
  {
   "cell_type": "code",
   "execution_count": 59,
   "id": "b996883f",
   "metadata": {},
   "outputs": [
    {
     "data": {
      "text/html": [
       "<div>\n",
       "<style scoped>\n",
       "    .dataframe tbody tr th:only-of-type {\n",
       "        vertical-align: middle;\n",
       "    }\n",
       "\n",
       "    .dataframe tbody tr th {\n",
       "        vertical-align: top;\n",
       "    }\n",
       "\n",
       "    .dataframe thead th {\n",
       "        text-align: right;\n",
       "    }\n",
       "</style>\n",
       "<table border=\"1\" class=\"dataframe\">\n",
       "  <thead>\n",
       "    <tr style=\"text-align: right;\">\n",
       "      <th></th>\n",
       "      <th>age</th>\n",
       "      <th>education</th>\n",
       "      <th>default</th>\n",
       "      <th>balance</th>\n",
       "      <th>housing</th>\n",
       "      <th>loan</th>\n",
       "      <th>day</th>\n",
       "      <th>duration</th>\n",
       "      <th>campaign</th>\n",
       "      <th>pdays</th>\n",
       "      <th>...</th>\n",
       "      <th>month_jun</th>\n",
       "      <th>month_mar</th>\n",
       "      <th>month_may</th>\n",
       "      <th>month_nov</th>\n",
       "      <th>month_oct</th>\n",
       "      <th>month_sep</th>\n",
       "      <th>poutcome_failure</th>\n",
       "      <th>poutcome_other</th>\n",
       "      <th>poutcome_success</th>\n",
       "      <th>poutcome_unknown</th>\n",
       "    </tr>\n",
       "  </thead>\n",
       "  <tbody>\n",
       "    <tr>\n",
       "      <th>0</th>\n",
       "      <td>59</td>\n",
       "      <td>1</td>\n",
       "      <td>0</td>\n",
       "      <td>2343.0</td>\n",
       "      <td>1</td>\n",
       "      <td>0</td>\n",
       "      <td>5</td>\n",
       "      <td>1042</td>\n",
       "      <td>1</td>\n",
       "      <td>-1</td>\n",
       "      <td>...</td>\n",
       "      <td>0</td>\n",
       "      <td>0</td>\n",
       "      <td>1</td>\n",
       "      <td>0</td>\n",
       "      <td>0</td>\n",
       "      <td>0</td>\n",
       "      <td>0</td>\n",
       "      <td>0</td>\n",
       "      <td>0</td>\n",
       "      <td>1</td>\n",
       "    </tr>\n",
       "    <tr>\n",
       "      <th>1</th>\n",
       "      <td>56</td>\n",
       "      <td>1</td>\n",
       "      <td>0</td>\n",
       "      <td>45.0</td>\n",
       "      <td>0</td>\n",
       "      <td>0</td>\n",
       "      <td>5</td>\n",
       "      <td>1467</td>\n",
       "      <td>1</td>\n",
       "      <td>-1</td>\n",
       "      <td>...</td>\n",
       "      <td>0</td>\n",
       "      <td>0</td>\n",
       "      <td>1</td>\n",
       "      <td>0</td>\n",
       "      <td>0</td>\n",
       "      <td>0</td>\n",
       "      <td>0</td>\n",
       "      <td>0</td>\n",
       "      <td>0</td>\n",
       "      <td>1</td>\n",
       "    </tr>\n",
       "    <tr>\n",
       "      <th>2</th>\n",
       "      <td>41</td>\n",
       "      <td>1</td>\n",
       "      <td>0</td>\n",
       "      <td>1270.0</td>\n",
       "      <td>1</td>\n",
       "      <td>0</td>\n",
       "      <td>5</td>\n",
       "      <td>1389</td>\n",
       "      <td>1</td>\n",
       "      <td>-1</td>\n",
       "      <td>...</td>\n",
       "      <td>0</td>\n",
       "      <td>0</td>\n",
       "      <td>1</td>\n",
       "      <td>0</td>\n",
       "      <td>0</td>\n",
       "      <td>0</td>\n",
       "      <td>0</td>\n",
       "      <td>0</td>\n",
       "      <td>0</td>\n",
       "      <td>1</td>\n",
       "    </tr>\n",
       "    <tr>\n",
       "      <th>3</th>\n",
       "      <td>55</td>\n",
       "      <td>1</td>\n",
       "      <td>0</td>\n",
       "      <td>2476.0</td>\n",
       "      <td>1</td>\n",
       "      <td>0</td>\n",
       "      <td>5</td>\n",
       "      <td>579</td>\n",
       "      <td>1</td>\n",
       "      <td>-1</td>\n",
       "      <td>...</td>\n",
       "      <td>0</td>\n",
       "      <td>0</td>\n",
       "      <td>1</td>\n",
       "      <td>0</td>\n",
       "      <td>0</td>\n",
       "      <td>0</td>\n",
       "      <td>0</td>\n",
       "      <td>0</td>\n",
       "      <td>0</td>\n",
       "      <td>1</td>\n",
       "    </tr>\n",
       "    <tr>\n",
       "      <th>4</th>\n",
       "      <td>54</td>\n",
       "      <td>2</td>\n",
       "      <td>0</td>\n",
       "      <td>184.0</td>\n",
       "      <td>0</td>\n",
       "      <td>0</td>\n",
       "      <td>5</td>\n",
       "      <td>673</td>\n",
       "      <td>2</td>\n",
       "      <td>-1</td>\n",
       "      <td>...</td>\n",
       "      <td>0</td>\n",
       "      <td>0</td>\n",
       "      <td>1</td>\n",
       "      <td>0</td>\n",
       "      <td>0</td>\n",
       "      <td>0</td>\n",
       "      <td>0</td>\n",
       "      <td>0</td>\n",
       "      <td>0</td>\n",
       "      <td>1</td>\n",
       "    </tr>\n",
       "    <tr>\n",
       "      <th>...</th>\n",
       "      <td>...</td>\n",
       "      <td>...</td>\n",
       "      <td>...</td>\n",
       "      <td>...</td>\n",
       "      <td>...</td>\n",
       "      <td>...</td>\n",
       "      <td>...</td>\n",
       "      <td>...</td>\n",
       "      <td>...</td>\n",
       "      <td>...</td>\n",
       "      <td>...</td>\n",
       "      <td>...</td>\n",
       "      <td>...</td>\n",
       "      <td>...</td>\n",
       "      <td>...</td>\n",
       "      <td>...</td>\n",
       "      <td>...</td>\n",
       "      <td>...</td>\n",
       "      <td>...</td>\n",
       "      <td>...</td>\n",
       "      <td>...</td>\n",
       "    </tr>\n",
       "    <tr>\n",
       "      <th>11157</th>\n",
       "      <td>33</td>\n",
       "      <td>0</td>\n",
       "      <td>0</td>\n",
       "      <td>1.0</td>\n",
       "      <td>1</td>\n",
       "      <td>0</td>\n",
       "      <td>20</td>\n",
       "      <td>257</td>\n",
       "      <td>1</td>\n",
       "      <td>-1</td>\n",
       "      <td>...</td>\n",
       "      <td>0</td>\n",
       "      <td>0</td>\n",
       "      <td>0</td>\n",
       "      <td>0</td>\n",
       "      <td>0</td>\n",
       "      <td>0</td>\n",
       "      <td>0</td>\n",
       "      <td>0</td>\n",
       "      <td>0</td>\n",
       "      <td>1</td>\n",
       "    </tr>\n",
       "    <tr>\n",
       "      <th>11158</th>\n",
       "      <td>39</td>\n",
       "      <td>1</td>\n",
       "      <td>0</td>\n",
       "      <td>733.0</td>\n",
       "      <td>0</td>\n",
       "      <td>0</td>\n",
       "      <td>16</td>\n",
       "      <td>83</td>\n",
       "      <td>4</td>\n",
       "      <td>-1</td>\n",
       "      <td>...</td>\n",
       "      <td>1</td>\n",
       "      <td>0</td>\n",
       "      <td>0</td>\n",
       "      <td>0</td>\n",
       "      <td>0</td>\n",
       "      <td>0</td>\n",
       "      <td>0</td>\n",
       "      <td>0</td>\n",
       "      <td>0</td>\n",
       "      <td>1</td>\n",
       "    </tr>\n",
       "    <tr>\n",
       "      <th>11159</th>\n",
       "      <td>32</td>\n",
       "      <td>1</td>\n",
       "      <td>0</td>\n",
       "      <td>29.0</td>\n",
       "      <td>0</td>\n",
       "      <td>0</td>\n",
       "      <td>19</td>\n",
       "      <td>156</td>\n",
       "      <td>2</td>\n",
       "      <td>-1</td>\n",
       "      <td>...</td>\n",
       "      <td>0</td>\n",
       "      <td>0</td>\n",
       "      <td>0</td>\n",
       "      <td>0</td>\n",
       "      <td>0</td>\n",
       "      <td>0</td>\n",
       "      <td>0</td>\n",
       "      <td>0</td>\n",
       "      <td>0</td>\n",
       "      <td>1</td>\n",
       "    </tr>\n",
       "    <tr>\n",
       "      <th>11160</th>\n",
       "      <td>43</td>\n",
       "      <td>1</td>\n",
       "      <td>0</td>\n",
       "      <td>0.0</td>\n",
       "      <td>0</td>\n",
       "      <td>1</td>\n",
       "      <td>8</td>\n",
       "      <td>9</td>\n",
       "      <td>2</td>\n",
       "      <td>172</td>\n",
       "      <td>...</td>\n",
       "      <td>0</td>\n",
       "      <td>0</td>\n",
       "      <td>1</td>\n",
       "      <td>0</td>\n",
       "      <td>0</td>\n",
       "      <td>0</td>\n",
       "      <td>1</td>\n",
       "      <td>0</td>\n",
       "      <td>0</td>\n",
       "      <td>0</td>\n",
       "    </tr>\n",
       "    <tr>\n",
       "      <th>11161</th>\n",
       "      <td>34</td>\n",
       "      <td>1</td>\n",
       "      <td>0</td>\n",
       "      <td>0.0</td>\n",
       "      <td>0</td>\n",
       "      <td>0</td>\n",
       "      <td>9</td>\n",
       "      <td>628</td>\n",
       "      <td>1</td>\n",
       "      <td>-1</td>\n",
       "      <td>...</td>\n",
       "      <td>0</td>\n",
       "      <td>0</td>\n",
       "      <td>0</td>\n",
       "      <td>0</td>\n",
       "      <td>0</td>\n",
       "      <td>0</td>\n",
       "      <td>0</td>\n",
       "      <td>0</td>\n",
       "      <td>0</td>\n",
       "      <td>1</td>\n",
       "    </tr>\n",
       "  </tbody>\n",
       "</table>\n",
       "<p>10105 rows × 46 columns</p>\n",
       "</div>"
      ],
      "text/plain": [
       "       age  education  default  balance  housing  loan  day  duration  \\\n",
       "0       59          1        0   2343.0        1     0    5      1042   \n",
       "1       56          1        0     45.0        0     0    5      1467   \n",
       "2       41          1        0   1270.0        1     0    5      1389   \n",
       "3       55          1        0   2476.0        1     0    5       579   \n",
       "4       54          2        0    184.0        0     0    5       673   \n",
       "...    ...        ...      ...      ...      ...   ...  ...       ...   \n",
       "11157   33          0        0      1.0        1     0   20       257   \n",
       "11158   39          1        0    733.0        0     0   16        83   \n",
       "11159   32          1        0     29.0        0     0   19       156   \n",
       "11160   43          1        0      0.0        0     1    8         9   \n",
       "11161   34          1        0      0.0        0     0    9       628   \n",
       "\n",
       "       campaign  pdays  ...  month_jun  month_mar  month_may  month_nov  \\\n",
       "0             1     -1  ...          0          0          1          0   \n",
       "1             1     -1  ...          0          0          1          0   \n",
       "2             1     -1  ...          0          0          1          0   \n",
       "3             1     -1  ...          0          0          1          0   \n",
       "4             2     -1  ...          0          0          1          0   \n",
       "...         ...    ...  ...        ...        ...        ...        ...   \n",
       "11157         1     -1  ...          0          0          0          0   \n",
       "11158         4     -1  ...          1          0          0          0   \n",
       "11159         2     -1  ...          0          0          0          0   \n",
       "11160         2    172  ...          0          0          1          0   \n",
       "11161         1     -1  ...          0          0          0          0   \n",
       "\n",
       "       month_oct  month_sep  poutcome_failure  poutcome_other  \\\n",
       "0              0          0                 0               0   \n",
       "1              0          0                 0               0   \n",
       "2              0          0                 0               0   \n",
       "3              0          0                 0               0   \n",
       "4              0          0                 0               0   \n",
       "...          ...        ...               ...             ...   \n",
       "11157          0          0                 0               0   \n",
       "11158          0          0                 0               0   \n",
       "11159          0          0                 0               0   \n",
       "11160          0          0                 1               0   \n",
       "11161          0          0                 0               0   \n",
       "\n",
       "       poutcome_success  poutcome_unknown  \n",
       "0                     0                 1  \n",
       "1                     0                 1  \n",
       "2                     0                 1  \n",
       "3                     0                 1  \n",
       "4                     0                 1  \n",
       "...                 ...               ...  \n",
       "11157                 0                 1  \n",
       "11158                 0                 1  \n",
       "11159                 0                 1  \n",
       "11160                 0                 0  \n",
       "11161                 0                 1  \n",
       "\n",
       "[10105 rows x 46 columns]"
      ]
     },
     "execution_count": 59,
     "metadata": {},
     "output_type": "execute_result"
    }
   ],
   "source": [
    "# создайте дамми-переменные\n",
    "data = pd.get_dummies(cleaned, columns=['job','marital','contact','month','poutcome'])\n",
    "data"
   ]
  },
  {
   "cell_type": "code",
   "execution_count": 60,
   "id": "89590565",
   "metadata": {},
   "outputs": [
    {
     "name": "stdout",
     "output_type": "stream",
     "text": [
      "<class 'pandas.core.frame.DataFrame'>\n",
      "Int64Index: 10105 entries, 0 to 11161\n",
      "Data columns (total 46 columns):\n",
      " #   Column             Non-Null Count  Dtype  \n",
      "---  ------             --------------  -----  \n",
      " 0   age                10105 non-null  int64  \n",
      " 1   education          10105 non-null  int32  \n",
      " 2   default            10105 non-null  int64  \n",
      " 3   balance            10105 non-null  float64\n",
      " 4   housing            10105 non-null  int64  \n",
      " 5   loan               10105 non-null  int64  \n",
      " 6   day                10105 non-null  int64  \n",
      " 7   duration           10105 non-null  int64  \n",
      " 8   campaign           10105 non-null  int64  \n",
      " 9   pdays              10105 non-null  int64  \n",
      " 10  previous           10105 non-null  int64  \n",
      " 11  deposit            10105 non-null  int64  \n",
      " 12  age_group          10105 non-null  int32  \n",
      " 13  job_admin.         10105 non-null  uint8  \n",
      " 14  job_blue-collar    10105 non-null  uint8  \n",
      " 15  job_entrepreneur   10105 non-null  uint8  \n",
      " 16  job_housemaid      10105 non-null  uint8  \n",
      " 17  job_management     10105 non-null  uint8  \n",
      " 18  job_retired        10105 non-null  uint8  \n",
      " 19  job_self-employed  10105 non-null  uint8  \n",
      " 20  job_services       10105 non-null  uint8  \n",
      " 21  job_student        10105 non-null  uint8  \n",
      " 22  job_technician     10105 non-null  uint8  \n",
      " 23  job_unemployed     10105 non-null  uint8  \n",
      " 24  marital_divorced   10105 non-null  uint8  \n",
      " 25  marital_married    10105 non-null  uint8  \n",
      " 26  marital_single     10105 non-null  uint8  \n",
      " 27  contact_cellular   10105 non-null  uint8  \n",
      " 28  contact_telephone  10105 non-null  uint8  \n",
      " 29  contact_unknown    10105 non-null  uint8  \n",
      " 30  month_apr          10105 non-null  uint8  \n",
      " 31  month_aug          10105 non-null  uint8  \n",
      " 32  month_dec          10105 non-null  uint8  \n",
      " 33  month_feb          10105 non-null  uint8  \n",
      " 34  month_jan          10105 non-null  uint8  \n",
      " 35  month_jul          10105 non-null  uint8  \n",
      " 36  month_jun          10105 non-null  uint8  \n",
      " 37  month_mar          10105 non-null  uint8  \n",
      " 38  month_may          10105 non-null  uint8  \n",
      " 39  month_nov          10105 non-null  uint8  \n",
      " 40  month_oct          10105 non-null  uint8  \n",
      " 41  month_sep          10105 non-null  uint8  \n",
      " 42  poutcome_failure   10105 non-null  uint8  \n",
      " 43  poutcome_other     10105 non-null  uint8  \n",
      " 44  poutcome_success   10105 non-null  uint8  \n",
      " 45  poutcome_unknown   10105 non-null  uint8  \n",
      "dtypes: float64(1), int32(2), int64(10), uint8(33)\n",
      "memory usage: 1.3 MB\n"
     ]
    }
   ],
   "source": [
    "data.info()"
   ]
  },
  {
   "attachments": {},
   "cell_type": "markdown",
   "id": "9a23e318",
   "metadata": {},
   "source": [
    "### Задания 5 и 6"
   ]
  },
  {
   "cell_type": "code",
   "execution_count": 61,
   "id": "f9920736",
   "metadata": {},
   "outputs": [
    {
     "data": {
      "application/vnd.plotly.v1+json": {
       "config": {
        "plotlyServerURL": "https://plot.ly"
       },
       "data": [
        {
         "coloraxis": "coloraxis",
         "hovertemplate": "x: %{x}<br>y: %{y}<br>color: %{z}<extra></extra>",
         "name": "0",
         "type": "heatmap",
         "x": [
          "age",
          "education",
          "default",
          "balance",
          "housing",
          "loan",
          "day",
          "duration",
          "campaign",
          "pdays",
          "previous",
          "deposit",
          "age_group",
          "job_admin.",
          "job_blue-collar",
          "job_entrepreneur",
          "job_housemaid",
          "job_management",
          "job_retired",
          "job_self-employed",
          "job_services",
          "job_student",
          "job_technician",
          "job_unemployed",
          "marital_divorced",
          "marital_married",
          "marital_single",
          "contact_cellular",
          "contact_telephone",
          "contact_unknown",
          "month_apr",
          "month_aug",
          "month_dec",
          "month_feb",
          "month_jan",
          "month_jul",
          "month_jun",
          "month_mar",
          "month_may",
          "month_nov",
          "month_oct",
          "month_sep",
          "poutcome_failure",
          "poutcome_other",
          "poutcome_success",
          "poutcome_unknown"
         ],
         "xaxis": "x",
         "y": [
          "age",
          "education",
          "default",
          "balance",
          "housing",
          "loan",
          "day",
          "duration",
          "campaign",
          "pdays",
          "previous",
          "deposit",
          "age_group",
          "job_admin.",
          "job_blue-collar",
          "job_entrepreneur",
          "job_housemaid",
          "job_management",
          "job_retired",
          "job_self-employed",
          "job_services",
          "job_student",
          "job_technician",
          "job_unemployed",
          "marital_divorced",
          "marital_married",
          "marital_single",
          "contact_cellular",
          "contact_telephone",
          "contact_unknown",
          "month_apr",
          "month_aug",
          "month_dec",
          "month_feb",
          "month_jan",
          "month_jul",
          "month_jun",
          "month_mar",
          "month_may",
          "month_nov",
          "month_oct",
          "month_sep",
          "poutcome_failure",
          "poutcome_other",
          "poutcome_success",
          "poutcome_unknown"
         ],
         "yaxis": "y",
         "z": [
          [
           1,
           -0.19112445736907532,
           -0.009928867000506231,
           0.11516390242053541,
           -0.1641961631459192,
           -0.026356917376324753,
           0.00039599931358720933,
           -0.00600740903274056,
           -0.001142939300713116,
           0.006106815597944845,
           0.025382584845660416,
           0.024357221650049325,
           -0.008358618363919922,
           -0.05750219804963418,
           -0.06591674011255204,
           0.028389607760862308,
           0.09266135818748922,
           -0.03616345292941302,
           0.545524174137316,
           -0.0279468248645555,
           -0.07726642847799159,
           -0.23143607056404655,
           -0.07459564316575988,
           0.0012629505039062072,
           0.1853118263751846,
           0.3166812889342329,
           -0.4647371697736057,
           -0.07406162587855551,
           0.1944549937585613,
           -0.036223895322225134,
           -0.02620762965312558,
           0.060980020458446985,
           0.031150686498491887,
           0.014728929982769624,
           0.017476519501441103,
           -0.0036619540005770465,
           0.009769320364374322,
           0.02478477160800905,
           -0.11965570288879157,
           0.026875079206442345,
           0.056998007001057,
           0.036352065249775425,
           0.001993686249719973,
           -0.02094247550888412,
           0.06000890966347141,
           -0.031455100217259224
          ],
          [
           -0.19112445736907532,
           1,
           -0.015692257588891496,
           0.04325101201172388,
           -0.0943498425165418,
           -0.052565676124948335,
           0.008988809163138562,
           -0.01686927403361189,
           -0.012280029002901215,
           0.024123183521948633,
           0.025368368883975374,
           0.09825260709197181,
           -0.057120186722109396,
           -0.055817060852600506,
           -0.37179635912360226,
           0.024219204348912258,
           -0.14424238087221275,
           0.5187352566367364,
           -0.14880043416561967,
           0.09100071507944721,
           -0.10384569768521804,
           -0.00949438949337957,
           0.04796604991930464,
           -0.031813466986374044,
           -0.03342541559685288,
           -0.13351365235910326,
           0.16514015936930368,
           0.17269652592826298,
           -0.08076703148954596,
           -0.14025602956664357,
           0.015455774316864988,
           0.10221783494096641,
           0.004171378976827755,
           0.036743443034557004,
           -0.002329638035878621,
           -0.04983178671276043,
           -0.036502506095028524,
           0.052196000016137306,
           -0.10415689897010383,
           0.028703542978000606,
           0.027616985259571986,
           0.03084609253181214,
           0.01984521555119435,
           0.01510330857037633,
           0.07048885498377068,
           -0.0690690439179032
          ],
          [
           -0.009928867000506231,
           -0.015692257588891496,
           1,
           -0.11092846464684003,
           0.009550681940153911,
           0.07478604495434865,
           0.018723764602356276,
           -0.008162447871715443,
           0.0334041897789569,
           -0.03732251547596151,
           -0.03660506967025244,
           -0.03887155550655371,
           0.0012580666216613792,
           -0.022420688471173407,
           0.02298891114612107,
           0.023263982047784806,
           0.019272754212362256,
           -0.00005499860054468263,
           -0.01852437723939424,
           0.00892390316525449,
           -0.020168200800424654,
           -0.019190214278969577,
           0.0044187174247164165,
           0.011119817164777985,
           0.021028346340694455,
           -0.007669682509971998,
           -0.006322047402417767,
           -0.028878284956785516,
           -0.021595672163374147,
           0.044620510313883324,
           -0.018812434483539142,
           -0.003966316919881672,
           -0.012455574179555997,
           -0.02026043994855562,
           0.0033822961363326465,
           0.04865343232197664,
           0.01962574022603239,
           -0.02002821760443381,
           -0.0017608026065100116,
           0.0005441444997292199,
           -0.02393083323677154,
           -0.016977067153781715,
           -0.02545018825692973,
           -0.017922614415047222,
           -0.04150982152914484,
           0.05503206204127585
          ],
          [
           0.11516390242053541,
           0.04325101201172388,
           -0.11092846464684003,
           1,
           -0.09491928481956083,
           -0.11308905510599913,
           -0.009986581063579344,
           0.025780572032455328,
           -0.04268852758466478,
           0.04515469513701134,
           0.0604193487093435,
           0.1358927995834968,
           0.019336251231442662,
           -0.028057474496052105,
           -0.049484380196695044,
           -0.008727482973167625,
           0.0009067068089200388,
           0.039205196586721176,
           0.0914212025366459,
           0.00988916887679918,
           -0.037632534023198355,
           0.007132545772450816,
           -0.010460025636197832,
           0.00968915356380507,
           -0.0304060150275364,
           0.032056472322623535,
           -0.013175705387869116,
           0.030038902357152338,
           0.061140319561632926,
           -0.06973664183112381,
           0.050392310857608036,
           -0.008252491516782269,
           0.0270921437194218,
           0.010159581891502931,
           -0.01133068355717619,
           -0.08682412882213748,
           0.039753137953762466,
           0.04383248924752288,
           -0.0980725729359988,
           0.08186054116239823,
           0.057041035367071204,
           0.04784084138447565,
           0.031039806322748567,
           0.02811065196117866,
           0.07335818622594595,
           -0.08545634421066671
          ],
          [
           -0.1641961631459192,
           -0.0943498425165418,
           0.009550681940153911,
           -0.09491928481956083,
           1,
           0.07225203654438052,
           -0.022643973467700185,
           0.038491805954390564,
           0.006257232215304214,
           0.06413786069971442,
           -0.00022141860669882022,
           -0.20028974086506554,
           -0.1393887346288276,
           0.06354734733852985,
           0.1941149553569676,
           0.006599855123703844,
           -0.06382403618250697,
           -0.07769684520372443,
           -0.1687853875911903,
           -0.01955454632295774,
           0.08012852325020164,
           -0.12426109049220249,
           0.00477214568031162,
           -0.059712137749211226,
           0.0096864617540861,
           0.03685661157028105,
           -0.04590356987358823,
           -0.18683206710785613,
           -0.08494248597482267,
           0.2556489342796202,
           0.03148468396742866,
           -0.23577237211403607,
           -0.05962465862034044,
           -0.07919799388576447,
           -0.09003941653654157,
           -0.029805746837006788,
           -0.07313305524615005,
           -0.0759483215677389,
           0.43260502469662204,
           -0.00021921749349250734,
           -0.09202629998219465,
           -0.08689268061698036,
           0.08516674866575011,
           0.009830479488261922,
           -0.13447717252380603,
           0.024082156440090575
          ],
          [
           -0.026356917376324753,
           -0.052565676124948335,
           0.07478604495434865,
           -0.11308905510599913,
           0.07225203654438052,
           1,
           0.019135999321950956,
           0.0014761710934770975,
           0.033888814447992015,
           -0.03078800509653768,
           -0.020087467784551415,
           -0.10724005513690088,
           -0.02894235034824121,
           0.0490978813347229,
           0.056856531036864305,
           0.0382979090383549,
           -0.028972775044186078,
           -0.05268334298638476,
           -0.04567387224926854,
           0.004113125734377761,
           0.032109293209764245,
           -0.07138470532119913,
           0.00950061784701694,
           -0.039883480072862826,
           0.028408397079804488,
           0.04469151420709065,
           -0.06714016570503059,
           0.0006525623102942377,
           -0.016393596449503254,
           0.009171649409343001,
           -0.040163931839272804,
           -0.06420821576258118,
           -0.029520527340748892,
           -0.012067258894366108,
           0.003324580593277537,
           0.16324919971432514,
           -0.014896960039461444,
           -0.04110485455449542,
           0.002778246269487659,
           0.017719679157117283,
           -0.03235685435100913,
           -0.04619601065395019,
           0.007458454793014616,
           -0.019288673246026906,
           -0.08209754720782142,
           0.059234591547944755
          ],
          [
           0.00039599931358720933,
           0.008988809163138562,
           0.018723764602356276,
           -0.009986581063579344,
           -0.022643973467700185,
           0.019135999321950956,
           1,
           -0.01669497716919676,
           0.14216905887475062,
           -0.07875683355579623,
           -0.059738788262662185,
           -0.05687802148028594,
           0.003868421438764028,
           -0.010679972285372213,
           -0.019876137357088753,
           -0.005463129785117244,
           0.01091980438195913,
           0.0030254622293409586,
           -0.005225935930360409,
           0.0015646879478905804,
           0.002787197088433483,
           -0.010711546215930656,
           0.031050423688559887,
           -0.0013798381473927768,
           0.0036258701909126882,
           0.001760273031154901,
           -0.004371420538053528,
           -0.006511189970762926,
           0.01364675053382602,
           -0.0011048843662685038,
           0.11054667845472042,
           -0.0017579188049136744,
           -0.011650829300837126,
           -0.2362222128181818,
           0.22513576041976235,
           0.1308973204543035,
           -0.18203213562944542,
           -0.04430307499420366,
           -0.0145804030278174,
           0.05647074623746425,
           0.07217907902762571,
           -0.06874389539333725,
           -0.07117471965490017,
           -0.008806331153088065,
           -0.04436641795742859,
           0.08544194506641996
          ],
          [
           -0.00600740903274056,
           -0.01686927403361189,
           -0.008162447871715443,
           0.025780572032455328,
           0.038491805954390564,
           0.0014761710934770975,
           -0.01669497716919676,
           1,
           -0.04257600004035579,
           -0.03305284893724015,
           -0.034233184361358436,
           0.45781769360301033,
           0.004617838243784235,
           -0.02358540147906707,
           0.03225309593885239,
           0.0005941392600343175,
           -0.010009300604183308,
           -0.02430873829153393,
           0.006051842183890917,
           0.014512674624484953,
           0.013910557006086734,
           -0.017973670998983157,
           -0.007488083089230274,
           0.02764059088919826,
           0.02342508762732541,
           -0.03774687585533383,
           0.024041627756432617,
           0.022005949440884534,
           -0.022244135060744217,
           -0.010664694199961466,
           0.027398294881275626,
           -0.024372157290365015,
           0.007100333528135067,
           -0.02523090092312883,
           -0.010271705003825998,
           0.05620293223008869,
           -0.0030610677644766337,
           -0.034640423480848614,
           0.007982994264364818,
           -0.015655113104131792,
           -0.01254136543014743,
           -0.012077211473883546,
           -0.03947554484603559,
           -0.009497450494607498,
           -0.02597129254434458,
           0.050570696828781535
          ],
          [
           -0.001142939300713116,
           -0.012280029002901215,
           0.0334041897789569,
           -0.04268852758466478,
           0.006257232215304214,
           0.033888814447992015,
           0.14216905887475062,
           -0.04257600004035579,
           1,
           -0.10521397303098566,
           -0.05231162335512055,
           -0.1307069361093318,
           -0.04831286166336229,
           -0.01883445483474595,
           0.0024302142744517087,
           0.011167717825831138,
           0.008831940258475337,
           0.018159103240345788,
           -0.03718936490640249,
           0.0062991854716798025,
           0.009144919974393094,
           -0.023709709548520315,
           0.022405576794788676,
           -0.02372790707816498,
           -0.00965318784229002,
           0.05541459510413409,
           -0.052334523280718526,
           -0.06857289903680089,
           0.056649854851806326,
           0.040869733903314186,
           -0.07579061997888839,
           0.14942506087193658,
           -0.014967418524483505,
           -0.03902615862737059,
           -0.053519370964899955,
           0.11816270154415474,
           0.04676267213529732,
           -0.03057363920511558,
           -0.04434775392071583,
           -0.07730670894273345,
           -0.07151852095759122,
           -0.04867201040102265,
           -0.08228237419890475,
           -0.024854320655611262,
           -0.09425952012979257,
           0.13484230294349264
          ],
          [
           0.006106815597944845,
           0.024123183521948633,
           -0.03732251547596151,
           0.04515469513701134,
           0.06413786069971442,
           -0.03078800509653768,
           -0.07875683355579623,
           -0.03305284893724015,
           -0.10521397303098566,
           1,
           0.5137082145015672,
           0.14791690905586677,
           -0.01488767569291484,
           0.04629267403148942,
           -0.024269395055896047,
           -0.026802346110530364,
           -0.023625257119507918,
           0.010867867239725486,
           0.007287465255442837,
           -0.012057466578022548,
           -0.00242697585448329,
           0.025137105104841854,
           -0.017992817887431824,
           0.005832563933757348,
           -0.013342965062728295,
           -0.020002591385796197,
           0.030482696130094335,
           0.20800641611828893,
           0.0041204217973056225,
           -0.23008004941943927,
           0.08070889438474185,
           -0.06685932259008691,
           0.045581206984055204,
           0.05445002213388722,
           0.01539912752288028,
           -0.10834734362486857,
           -0.09355143928447521,
           0.02419197279751432,
           0.028677634548037897,
           -0.007350016076037305,
           0.07983293223846816,
           0.11090698039237705,
           0.6087193145248583,
           0.3380488824249435,
           0.3262145474583717,
           -0.82403133930182
          ],
          [
           0.025382584845660416,
           0.025368368883975374,
           -0.03660506967025244,
           0.0604193487093435,
           -0.00022141860669882022,
           -0.020087467784551415,
           -0.059738788262662185,
           -0.034233184361358436,
           -0.05231162335512055,
           0.5137082145015672,
           1,
           0.1411017375660217,
           0.0017495933367105386,
           0.030985429695162426,
           -0.03129858732424632,
           -0.019715946691492906,
           -0.02140876313238305,
           0.013373982603958957,
           0.01796311061033329,
           0.0009042291579942287,
           -0.01990948096658234,
           0.03742058192074511,
           -0.007059133493293199,
           -0.0009868131325806038,
           -0.02580729637075855,
           -0.0022914518130265175,
           0.020216937941715772,
           0.15281553537393294,
           0.02166889341864315,
           -0.18027366483439694,
           0.017112444368686478,
           -0.03391913739257857,
           0.06239672531876075,
           0.06480589388188354,
           0.030679997371661827,
           -0.08513500565369722,
           -0.05006749210833057,
           0.025225206846038756,
           -0.025077254776184825,
           0.019722232222373553,
           0.055076815353319646,
           0.09979544954818413,
           0.3478002100780384,
           0.3188876713801625,
           0.32897826482389897,
           -0.628345901448031
          ],
          [
           0.024357221650049325,
           0.09825260709197181,
           -0.03887155550655371,
           0.1358927995834968,
           -0.20028974086506554,
           -0.10724005513690088,
           -0.05687802148028594,
           0.45781769360301033,
           -0.1307069361093318,
           0.14791690905586677,
           0.1411017375660217,
           1,
           0.13364058864652154,
           -0.0019267704513989117,
           -0.09584545056212414,
           -0.03270602164461473,
           -0.0225717655366677,
           0.029566300698721786,
           0.10009035232794423,
           -0.005194461459843584,
           -0.04043274675420033,
           0.10556256697554034,
           -0.011190347873192499,
           0.039195518947526445,
           0.004807619117726586,
           -0.09424578107782572,
           0.0970051201252203,
           0.22394444543236658,
           0.0070641505479551725,
           -0.24929416477397748,
           0.09288849731065311,
           -0.018224773785438676,
           0.08504147891387104,
           0.0447276445318382,
           -0.025847344631418443,
           -0.04277936170528139,
           -0.008532753060735154,
           0.13534838539959332,
           -0.1682031300674784,
           -0.02775394635309489,
           0.1305994948840934,
           0.12523904851347725,
           0.02112446905897739,
           0.03931869994415358,
           0.2884909754116557,
           -0.22830042314545057
          ],
          [
           -0.008358618363919922,
           -0.057120186722109396,
           0.0012580666216613792,
           0.019336251231442662,
           -0.1393887346288276,
           -0.02894235034824121,
           0.003868421438764028,
           0.004617838243784235,
           -0.04831286166336229,
           -0.01488767569291484,
           0.0017495933367105386,
           0.13364058864652154,
           1,
           -0.015133303352156596,
           -0.041650490105689206,
           -0.04783480068640395,
           0.0011923298637661062,
           -0.0832203793577557,
           0.1972516650860105,
           0.004472541951874264,
           -0.019107554281025483,
           0.24045067611369217,
           -0.059370176922093634,
           -0.006033227167207383,
           -0.047370418129529995,
           -0.188493249200343,
           0.23326774988378424,
           0.015858953147653603,
           0.06716447772009038,
           -0.05785398838419104,
           0.0017021546494894691,
           -0.0633052967305285,
           0.04963137043341828,
           0.04212753716778184,
           0.033629676286382915,
           0.01298855174207559,
           0.0021749590666490593,
           0.04932861823551244,
           -0.039955246117769794,
           -0.052553464004576694,
           0.06364770433154796,
           0.045263336007741906,
           -0.04718426794659071,
           0.011126297546426954,
           0.0645227994469584,
           -0.014778492202417018
          ],
          [
           -0.05750219804963418,
           -0.055817060852600506,
           -0.022420688471173407,
           -0.028057474496052105,
           0.06354734733852985,
           0.0490978813347229,
           -0.010679972285372213,
           -0.02358540147906707,
           -0.01883445483474595,
           0.04629267403148942,
           0.030985429695162426,
           -0.0019267704513989117,
           -0.015133303352156596,
           1,
           -0.1750084552200551,
           -0.06559994853765005,
           -0.05997671832746945,
           -0.20444356206632955,
           -0.0993782709834611,
           -0.07187414651560861,
           -0.1149637869267289,
           -0.06847440186170253,
           -0.16495247610952604,
           -0.06912287014613447,
           0.024272275166000064,
           -0.0465673938333707,
           0.032846747389274455,
           0.009370682763538645,
           -0.01157042180616845,
           -0.0032759679830125605,
           0.01058555020939229,
           -0.0593184090526463,
           -0.004625187152358881,
           0.005392972195412694,
           -0.0005756239727821451,
           0.012264878932918609,
           -0.0010893471225527866,
           0.0035334334451482974,
           0.027695770042158178,
           -0.008095142941541539,
           0.00620815267122356,
           0.006847415744588508,
           0.03876217292240617,
           0.008043750186533324,
           0.004627640162229428,
           -0.03500742416563458
          ],
          [
           -0.06591674011255204,
           -0.37179635912360226,
           0.02298891114612107,
           -0.049484380196695044,
           0.1941149553569676,
           0.056856531036864305,
           -0.019876137357088753,
           0.03225309593885239,
           0.0024302142744517087,
           -0.024269395055896047,
           -0.03129858732424632,
           -0.09584545056212414,
           -0.041650490105689206,
           -0.1750084552200551,
           1,
           -0.08162612677953046,
           -0.07462913193001072,
           -0.25438946963361236,
           -0.12365655045858544,
           -0.08943312192213734,
           -0.14304963427448797,
           -0.08520281390629367,
           -0.2052506446675936,
           -0.08600970408803103,
           -0.05753774390639598,
           0.1094238169232243,
           -0.07683669549879586,
           -0.13720698764164455,
           -0.014832985602347889,
           0.1590729980546592,
           0.014651109764768131,
           -0.10562962121467911,
           -0.0260445323329386,
           -0.05741296422113413,
           -0.03108191547883849,
           0.004780802318228302,
           0.03276555986075338,
           -0.055254888343659415,
           0.17096865539362216,
           -0.025623619775785107,
           -0.0517918861076187,
           -0.04533257993785871,
           -0.015957039632333952,
           0.003622215772486921,
           -0.07449371830825,
           0.059758290449781544
          ],
          [
           0.028389607760862308,
           0.024219204348912258,
           0.023263982047784806,
           -0.008727482973167625,
           0.006599855123703844,
           0.0382979090383549,
           -0.005463129785117244,
           0.0005941392600343175,
           0.011167717825831138,
           -0.026802346110530364,
           -0.019715946691492906,
           -0.03270602164461473,
           -0.04783480068640395,
           -0.06559994853765005,
           -0.08162612677953046,
           1,
           -0.027973889649288052,
           -0.09535502782137975,
           -0.04635126535016112,
           -0.03352299857899254,
           -0.05362054441847729,
           -0.031937315259927886,
           -0.07693589267206252,
           -0.03223976895755595,
           0.009191177463507666,
           0.04979381108032868,
           -0.059332976766650294,
           -0.023678778334349514,
           0.010319427231831874,
           0.019685898548191264,
           -0.01834988282404471,
           -0.02902206679038408,
           -0.010752554964284972,
           -0.00011182171557075024,
           -0.011573198238972533,
           0.03844614679739463,
           0.02658570548817727,
           -0.01940257098967371,
           -0.01822653528677848,
           0.0455348028409706,
           -0.019363141192114804,
           -0.008032407412815438,
           0.0020065714156446398,
           -0.022674357892707588,
           -0.03415471147222022,
           0.032628844321352254
          ],
          [
           0.09266135818748922,
           -0.14424238087221275,
           0.019272754212362256,
           0.0009067068089200388,
           -0.06382403618250697,
           -0.028972775044186078,
           0.01091980438195913,
           -0.010009300604183308,
           0.008831940258475337,
           -0.023625257119507918,
           -0.02140876313238305,
           -0.0225717655366677,
           0.0011923298637661062,
           -0.05997671832746945,
           -0.07462913193001072,
           -0.027973889649288052,
           1,
           -0.08718119102591215,
           -0.04237803303203607,
           -0.03064940580114097,
           -0.04902418920811808,
           -0.029199647319554115,
           -0.07034094487766804,
           -0.02947617467413475,
           0.021064264149021503,
           0.04414276061363682,
           -0.06149690880155808,
           -0.023516237835716356,
           0.037257743883104835,
           0.003263707091613705,
           -0.013171306440289878,
           0.019303136848842065,
           -0.0021216705908129337,
           -0.014115403054254488,
           0.007421469349824489,
           0.021264055189240953,
           0.04977661778839645,
           0.00456934034471726,
           -0.05398168551916736,
           -0.00582985065948508,
           0.01292306189434548,
           -0.007499064555841563,
           -0.015544843784983603,
           -0.008927595808436077,
           -0.005594201423931102,
           0.0193502906456101
          ],
          [
           -0.03616345292941302,
           0.5187352566367364,
           -0.00005499860054468263,
           0.039205196586721176,
           -0.07769684520372443,
           -0.05268334298638476,
           0.0030254622293409586,
           -0.02430873829153393,
           0.018159103240345788,
           0.010867867239725486,
           0.013373982603958957,
           0.029566300698721786,
           -0.0832203793577557,
           -0.20444356206632955,
           -0.25438946963361236,
           -0.09535502782137975,
           -0.08718119102591215,
           1,
           -0.1444546528726288,
           -0.10447510087146303,
           -0.16710950763258095,
           -0.09953328684133872,
           -0.23977226048587363,
           -0.10047588988725047,
           -0.014419888479051166,
           -0.003931203802519074,
           0.014117875522909292,
           0.10524052122516313,
           -0.037554011546485765,
           -0.09250569294462846,
           0.001587938051104602,
           0.10045029903387859,
           0.0017119124646890122,
           0.013434343710643929,
           -0.014923782031933404,
           -0.022275830877086338,
           -0.026359707899609782,
           0.036883829860533304,
           -0.09543426356551904,
           0.030268719482090686,
           0.010855557666884777,
           0.03787987765161138,
           0.004470572219487383,
           0.010844595106576017,
           0.0359951502960619,
           -0.03272496782296445
          ],
          [
           0.545524174137316,
           -0.14880043416561967,
           -0.01852437723939424,
           0.0914212025366459,
           -0.1687853875911903,
           -0.04567387224926854,
           -0.005225935930360409,
           0.006051842183890917,
           -0.03718936490640249,
           0.007287465255442837,
           0.01796311061033329,
           0.10009035232794423,
           0.1972516650860105,
           -0.0993782709834611,
           -0.12365655045858544,
           -0.04635126535016112,
           -0.04237803303203607,
           -0.1444546528726288,
           1,
           -0.050784455037328,
           -0.08123050569836689,
           -0.04838228140626885,
           -0.11655124982195025,
           -0.04884047270356213,
           0.08817931924205592,
           0.09275307780897887,
           -0.1594721793541423,
           -0.026588453359673695,
           0.1513522356553905,
           -0.06217601313751563,
           0.0007901178336793515,
           0.01874400632127592,
           0.049799594021051885,
           0.03361417250100789,
           0.029876335883742715,
           -0.023056678796915156,
           -0.010806473670037656,
           0.04608488982849154,
           -0.0900530517640009,
           -0.016737373187938002,
           0.07148305259791092,
           0.06294518878082847,
           -0.011204554490674616,
           -0.0029263358338451426,
           0.07000563871596191,
           -0.03750143075154077
          ],
          [
           -0.0279468248645555,
           0.09100071507944721,
           0.00892390316525449,
           0.00988916887679918,
           -0.01955454632295774,
           0.004113125734377761,
           0.0015646879478905804,
           0.014512674624484953,
           0.0062991854716798025,
           -0.012057466578022548,
           0.0009042291579942287,
           -0.005194461459843584,
           0.004472541951874264,
           -0.07187414651560861,
           -0.08943312192213734,
           -0.03352299857899254,
           -0.03064940580114097,
           -0.10447510087146303,
           -0.050784455037328,
           1,
           -0.058748992212523325,
           -0.034991906662697705,
           -0.08429429817383557,
           -0.03532328804122187,
           -0.014516151671138658,
           -0.006988660821747856,
           0.017438601916915892,
           -0.009572323638427197,
           0.001260286560027345,
           0.009713816097826634,
           0.0031092619214403744,
           0.007677466111431988,
           -0.0016526908098721117,
           -0.00024826902141344786,
           -0.003984894762919387,
           -0.006530339833542679,
           0.00495505644478779,
           0.002134975489992398,
           -0.01798198000393722,
           0.02680983276763752,
           0.009363935601773924,
           -0.019142867856926243,
           -0.009059338075616057,
           0.004925746317957108,
           -0.0008815625732956606,
           0.004704861155726407
          ],
          [
           -0.07726642847799159,
           -0.10384569768521804,
           -0.020168200800424654,
           -0.037632534023198355,
           0.08012852325020164,
           0.032109293209764245,
           0.002787197088433483,
           0.013910557006086734,
           0.009144919974393094,
           -0.00242697585448329,
           -0.01990948096658234,
           -0.04043274675420033,
           -0.019107554281025483,
           -0.1149637869267289,
           -0.14304963427448797,
           -0.05362054441847729,
           -0.04902418920811808,
           -0.16710950763258095,
           -0.08123050569836689,
           -0.058748992212523325,
           1,
           -0.055970085166253146,
           -0.13483000778715973,
           -0.056500134704773726,
           0.017501987523071087,
           -0.02130837367620578,
           0.010624429756454853,
           -0.02408446187232969,
           -0.02253727499490039,
           0.03994303584192548,
           -0.0106697003398537,
           -0.06877024133082901,
           -0.007354263201769413,
           -0.02198673725608543,
           0.015347646756348785,
           0.03985526023703579,
           0.012643784867343593,
           -0.012502941387073837,
           0.06627093802766762,
           -0.019849284053000984,
           -0.031119611295303915,
           -0.02349057091168221,
           -0.0036843929964222467,
           -0.01545380468007501,
           -0.02810879838368516,
           0.029125248741362283
          ],
          [
           -0.23143607056404655,
           -0.00949438949337957,
           -0.019190214278969577,
           0.007132545772450816,
           -0.12426109049220249,
           -0.07138470532119913,
           -0.010711546215930656,
           -0.017973670998983157,
           -0.023709709548520315,
           0.025137105104841854,
           0.03742058192074511,
           0.10556256697554034,
           0.24045067611369217,
           -0.06847440186170253,
           -0.08520281390629367,
           -0.031937315259927886,
           -0.029199647319554115,
           -0.09953328684133872,
           -0.04838228140626885,
           -0.034991906662697705,
           -0.055970085166253146,
           1,
           -0.08030706349399144,
           -0.033652448587838696,
           -0.06280200537343886,
           -0.1913746058007452,
           0.24696507772319826,
           0.052483456310349744,
           0.0219162593510738,
           -0.07064201148376652,
           0.014733683461010819,
           -0.0027389368345394445,
           0.029323959881615125,
           0.02878349413566777,
           -0.0009332195652183969,
           -0.017328971277053268,
           -0.017264902870982316,
           0.0235149671227642,
           -0.03250893552338244,
           -0.004540688787671723,
           0.031885294564193825,
           0.027500278100064106,
           -0.006768947560700758,
           0.040725499822316644,
           0.06061888600465202,
           -0.055834825651200085
          ],
          [
           -0.07459564316575988,
           0.04796604991930464,
           0.0044187174247164165,
           -0.010460025636197832,
           0.00477214568031162,
           0.00950061784701694,
           0.031050423688559887,
           -0.007488083089230274,
           0.022405576794788676,
           -0.017992817887431824,
           -0.007059133493293199,
           -0.011190347873192499,
           -0.059370176922093634,
           -0.16495247610952604,
           -0.2052506446675936,
           -0.07693589267206252,
           -0.07034094487766804,
           -0.23977226048587363,
           -0.11655124982195025,
           -0.08429429817383557,
           -0.13483000778715973,
           -0.08030706349399144,
           1,
           -0.08106758979689882,
           0.0010134012259681584,
           -0.0522162607552031,
           0.054881847831599585,
           0.04096320648708098,
           -0.04685803253099899,
           -0.016564572258389566,
           -0.011286880392266586,
           0.10266878434508295,
           -0.011459143883680446,
           -0.0020263091895745718,
           0.003517983497156684,
           -0.022308043741873014,
           -0.03094980947257963,
           -0.016708925597144812,
           -0.009936268019131446,
           -0.008487913352313393,
           -0.0034538619052622093,
           -0.024728626454941963,
           0.0053548288402294544,
           -0.0113113458577539,
           -0.01861348496225943,
           0.014195841854569256
          ],
          [
           0.0012629505039062072,
           -0.031813466986374044,
           0.011119817164777985,
           0.00968915356380507,
           -0.059712137749211226,
           -0.039883480072862826,
           -0.0013798381473927768,
           0.02764059088919826,
           -0.02372790707816498,
           0.005832563933757348,
           -0.0009868131325806038,
           0.039195518947526445,
           -0.006033227167207383,
           -0.06912287014613447,
           -0.08600970408803103,
           -0.03223976895755595,
           -0.02947617467413475,
           -0.10047588988725047,
           -0.04884047270356213,
           -0.03532328804122187,
           -0.056500134704773726,
           -0.033652448587838696,
           -0.08106758979689882,
           1,
           0.010953853585976994,
           -0.016538233316389858,
           0.010057818083494305,
           0.020685913567856224,
           -0.0016102620253763639,
           -0.021662982536076836,
           -0.004589017859688124,
           -0.02502762983470459,
           0.01130460954548782,
           0.05804490727995493,
           0.03974967832539239,
           0.003854621065888823,
           -0.0040431619992781645,
           0.004450964780092761,
           -0.03672745241040333,
           0.009096394537852657,
           -0.003120816807912011,
           0.0029402934405440666,
           -0.009655167883266142,
           -0.012523900054916487,
           0.030416198532916307,
           -0.007315500237846703
          ],
          [
           0.1853118263751846,
           -0.03342541559685288,
           0.021028346340694455,
           -0.0304060150275364,
           0.0096864617540861,
           0.028408397079804488,
           0.0036258701909126882,
           0.02342508762732541,
           -0.00965318784229002,
           -0.013342965062728295,
           -0.02580729637075855,
           0.004807619117726586,
           -0.047370418129529995,
           0.024272275166000064,
           -0.05753774390639598,
           0.009191177463507666,
           0.021064264149021503,
           -0.014419888479051166,
           0.08817931924205592,
           -0.014516151671138658,
           0.017501987523071087,
           -0.06280200537343886,
           0.0010134012259681584,
           0.010953853585976994,
           1,
           -0.41427335154742945,
           -0.24790989933911153,
           -0.015334858719985828,
           -0.017456214898988645,
           0.027305460791415243,
           -0.027723499193386358,
           -0.0119484822015071,
           -0.009149926104921956,
           -0.018819357265593386,
           -0.0002755140363992371,
           0.02117017901925423,
           0.013260211943928001,
           0.004881791715297817,
           0.00928094438243537,
           0.01172944452593631,
           -0.0017571667976956108,
           -0.010147735117769006,
           -0.024843638047166793,
           -0.008729892757189703,
           -0.020205764553925396,
           0.03577139034399428
          ],
          [
           0.3166812889342329,
           -0.13351365235910326,
           -0.007669682509971998,
           0.032056472322623535,
           0.03685661157028105,
           0.04469151420709065,
           0.001760273031154901,
           -0.03774687585533383,
           0.05541459510413409,
           -0.020002591385796197,
           -0.0022914518130265175,
           -0.09424578107782572,
           -0.188493249200343,
           -0.0465673938333707,
           0.1094238169232243,
           0.04979381108032868,
           0.04414276061363682,
           -0.003931203802519074,
           0.09275307780897887,
           -0.006988660821747856,
           -0.02130837367620578,
           -0.1913746058007452,
           -0.0522162607552031,
           -0.016538233316389858,
           -0.41427335154742945,
           1,
           -0.7790378984346251,
           -0.05739869433385589,
           0.06230612144864344,
           0.02523236021497141,
           -0.007573669557942018,
           0.04800688305161822,
           0.0050235000413627095,
           -0.019527604807661653,
           -0.023309305004952874,
           0.024736090680404128,
           0.0029566986847331233,
           -0.030391620327119544,
           -0.03193541059860661,
           0.03355848614966477,
           -0.013898042202073677,
           -0.019805139232188344,
           0.01136408984126043,
           -0.03003807525168892,
           -0.008540847384458244,
           0.012295566671327746
          ],
          [
           -0.4647371697736057,
           0.16514015936930368,
           -0.006322047402417767,
           -0.013175705387869116,
           -0.04590356987358823,
           -0.06714016570503059,
           -0.004371420538053528,
           0.024041627756432617,
           -0.052334523280718526,
           0.030482696130094335,
           0.020216937941715772,
           0.0970051201252203,
           0.23326774988378424,
           0.032846747389274455,
           -0.07683669549879586,
           -0.059332976766650294,
           -0.06149690880155808,
           0.014117875522909292,
           -0.1594721793541423,
           0.017438601916915892,
           0.010624429756454853,
           0.24696507772319826,
           0.054881847831599585,
           0.010057818083494305,
           -0.24790989933911153,
           -0.7790378984346251,
           1,
           0.07165995278747693,
           -0.054294718936292084,
           -0.04566770400060788,
           0.027159442592737313,
           -0.04286845852443547,
           0.0009560044061932173,
           0.03374963442765863,
           0.02500064691448747,
           -0.040913053495730906,
           -0.01228172785531277,
           0.02898648013043557,
           0.0275992742582713,
           -0.04380033414854283,
           0.01600379172175893,
           0.028071426099315937,
           0.0050178925187350405,
           0.037986842472780474,
           0.023010181988018512,
           -0.037729468300322845
          ],
          [
           -0.07406162587855551,
           0.17269652592826298,
           -0.028878284956785516,
           0.030038902357152338,
           -0.18683206710785613,
           0.0006525623102942377,
           -0.006511189970762926,
           0.022005949440884534,
           -0.06857289903680089,
           0.20800641611828893,
           0.15281553537393294,
           0.22394444543236658,
           0.015858953147653603,
           0.009370682763538645,
           -0.13720698764164455,
           -0.023678778334349514,
           -0.023516237835716356,
           0.10524052122516313,
           -0.026588453359673695,
           -0.009572323638427197,
           -0.02408446187232969,
           0.052483456310349744,
           0.04096320648708098,
           0.020685913567856224,
           -0.015334858719985828,
           -0.05739869433385589,
           0.07165995278747693,
           1,
           -0.4250102370062479,
           -0.8378850005984578,
           0.14443666634852084,
           0.20959583037304486,
           0.020724542427098227,
           0.10708595015721654,
           0.06823272710874005,
           0.11876129259032549,
           -0.3193829635156559,
           0.0644025332875475,
           -0.33743807550492916,
           0.10812703312302852,
           0.03271703797267435,
           0.05345202683057496,
           0.1663359949258958,
           0.09150598967158742,
           0.14841955101719995,
           -0.26455865072402124
          ],
          [
           0.1944549937585613,
           -0.08076703148954596,
           -0.021595672163374147,
           0.061140319561632926,
           -0.08494248597482267,
           -0.016393596449503254,
           0.01364675053382602,
           -0.022244135060744217,
           0.056649854851806326,
           0.0041204217973056225,
           0.02166889341864315,
           0.0070641505479551725,
           0.06716447772009038,
           -0.01157042180616845,
           -0.014832985602347889,
           0.010319427231831874,
           0.037257743883104835,
           -0.037554011546485765,
           0.1513522356553905,
           0.001260286560027345,
           -0.02253727499490039,
           0.0219162593510738,
           -0.04685803253099899,
           -0.0016102620253763639,
           -0.017456214898988645,
           0.06230612144864344,
           -0.054294718936292084,
           -0.4250102370062479,
           1,
           -0.13798456418872518,
           -0.009173057180572554,
           -0.050738001558964664,
           0.041564010581487516,
           0.035448289692091454,
           0.03006285730698337,
           0.08670761402781009,
           -0.06442744765197192,
           0.006603914248502156,
           -0.07691551560668858,
           0.02995933016677558,
           0.06949619226196772,
           0.02401713872718375,
           -0.005817395860722301,
           0.014166535535796016,
           0.0002537093520180461,
           -0.002933760554553345
          ],
          [
           -0.036223895322225134,
           -0.14025602956664357,
           0.044620510313883324,
           -0.06973664183112381,
           0.2556489342796202,
           0.009171649409343001,
           -0.0011048843662685038,
           -0.010664694199961466,
           0.040869733903314186,
           -0.23008004941943927,
           -0.18027366483439694,
           -0.24929416477397748,
           -0.05785398838419104,
           -0.0032759679830125605,
           0.1590729980546592,
           0.019685898548191264,
           0.003263707091613705,
           -0.09250569294462846,
           -0.06217601313751563,
           0.009713816097826634,
           0.03994303584192548,
           -0.07064201148376652,
           -0.016564572258389566,
           -0.021662982536076836,
           0.027305460791415243,
           0.02523236021497141,
           -0.04566770400060788,
           -0.8378850005984578,
           -0.13798456418872518,
           1,
           -0.1525074054352161,
           -0.1987384196854779,
           -0.0477401992068344,
           -0.13854676238046532,
           -0.09278702624909461,
           -0.18223202424790705,
           0.38831178976779496,
           -0.07444991328265199,
           0.4155977908148235,
           -0.13637593661213457,
           -0.07770574836861033,
           -0.07296866910296974,
           -0.17849262704970464,
           -0.10866624075402398,
           -0.16254990574411074,
           0.2912424918489746
          ],
          [
           -0.02620762965312558,
           0.015455774316864988,
           -0.018812434483539142,
           0.050392310857608036,
           0.03148468396742866,
           -0.040163931839272804,
           0.11054667845472042,
           0.027398294881275626,
           -0.07579061997888839,
           0.08070889438474185,
           0.017112444368686478,
           0.09288849731065311,
           0.0017021546494894691,
           0.01058555020939229,
           0.014651109764768131,
           -0.01834988282404471,
           -0.013171306440289878,
           0.001587938051104602,
           0.0007901178336793515,
           0.0031092619214403744,
           -0.0106697003398537,
           0.014733683461010819,
           -0.011286880392266586,
           -0.004589017859688124,
           -0.027723499193386358,
           -0.007573669557942018,
           0.027159442592737313,
           0.14443666634852084,
           -0.009173057180572554,
           -0.1525074054352161,
           1,
           -0.1192198939785425,
           -0.02883122801953765,
           -0.08217386241546887,
           -0.05401008028607184,
           -0.12086075188717986,
           -0.10476621232544096,
           -0.046359814509886806,
           -0.1768483574556899,
           -0.08651770051416147,
           -0.055393296190178756,
           -0.05031459798065285,
           0.06792580433137765,
           0.04145828235173787,
           -0.0007674700367088695,
           -0.06882331926373866
          ],
          [
           0.060980020458446985,
           0.10221783494096641,
           -0.003966316919881672,
           -0.008252491516782269,
           -0.23577237211403607,
           -0.06420821576258118,
           -0.0017579188049136744,
           -0.024372157290365015,
           0.14942506087193658,
           -0.06685932259008691,
           -0.03391913739257857,
           -0.018224773785438676,
           -0.0633052967305285,
           -0.0593184090526463,
           -0.10562962121467911,
           -0.02902206679038408,
           0.019303136848842065,
           0.10045029903387859,
           0.01874400632127592,
           0.007677466111431988,
           -0.06877024133082901,
           -0.0027389368345394445,
           0.10266878434508295,
           -0.02502762983470459,
           -0.0119484822015071,
           0.04800688305161822,
           -0.04286845852443547,
           0.20959583037304486,
           -0.050738001558964664,
           -0.1987384196854779,
           -0.1192198939785425,
           1,
           -0.03841029989816649,
           -0.10947583283757376,
           -0.07195473532748181,
           -0.1610163022802455,
           -0.13957440979927377,
           -0.061762696245246246,
           -0.23560558855724398,
           -0.11526289553108147,
           -0.07379751974390122,
           -0.06703144230911516,
           -0.06260006225097026,
           -0.04044412956874822,
           0.007390012602135588,
           0.06003733324355173
          ],
          [
           0.031150686498491887,
           0.004171378976827755,
           -0.012455574179555997,
           0.0270921437194218,
           -0.05962465862034044,
           -0.029520527340748892,
           -0.011650829300837126,
           0.007100333528135067,
           -0.014967418524483505,
           0.045581206984055204,
           0.06239672531876075,
           0.08504147891387104,
           0.04963137043341828,
           -0.004625187152358881,
           -0.0260445323329386,
           -0.010752554964284972,
           -0.0021216705908129337,
           0.0017119124646890122,
           0.049799594021051885,
           -0.0016526908098721117,
           -0.007354263201769413,
           0.029323959881615125,
           -0.011459143883680446,
           0.01130460954548782,
           -0.009149926104921956,
           0.0050235000413627095,
           0.0009560044061932173,
           0.020724542427098227,
           0.041564010581487516,
           -0.0477401992068344,
           -0.02883122801953765,
           -0.03841029989816649,
           1,
           -0.026474798742372022,
           -0.017400983276209408,
           -0.038938951973401296,
           -0.03375360856586121,
           -0.01493621843740783,
           -0.056977054916638056,
           -0.027874297756436694,
           -0.017846628175962612,
           -0.01621037171900504,
           0.0026307141496422592,
           0.03686060409353312,
           0.06870550744490715,
           -0.06614520255804411
          ],
          [
           0.014728929982769624,
           0.036743443034557004,
           -0.02026043994855562,
           0.010159581891502931,
           -0.07919799388576447,
           -0.012067258894366108,
           -0.2362222128181818,
           -0.02523090092312883,
           -0.03902615862737059,
           0.05445002213388722,
           0.06480589388188354,
           0.0447276445318382,
           0.04212753716778184,
           0.005392972195412694,
           -0.05741296422113413,
           -0.00011182171557075024,
           -0.014115403054254488,
           0.013434343710643929,
           0.03361417250100789,
           -0.00024826902141344786,
           -0.02198673725608543,
           0.02878349413566777,
           -0.0020263091895745718,
           0.05804490727995493,
           -0.018819357265593386,
           -0.019527604807661653,
           0.03374963442765863,
           0.10708595015721654,
           0.035448289692091454,
           -0.13854676238046532,
           -0.08217386241546887,
           -0.10947583283757376,
           -0.026474798742372022,
           1,
           -0.049595737117549374,
           -0.110982580412341,
           -0.0962034771615376,
           -0.04257074162956984,
           -0.16239421603497653,
           -0.07944644977359491,
           -0.05086590024253581,
           -0.04620229337572666,
           0.06097031727530421,
           0.038670529267950934,
           0.035523789685934365,
           -0.08681310880396056
          ],
          [
           0.017476519501441103,
           -0.002329638035878621,
           0.0033822961363326465,
           -0.01133068355717619,
           -0.09003941653654157,
           0.003324580593277537,
           0.22513576041976235,
           -0.010271705003825998,
           -0.053519370964899955,
           0.01539912752288028,
           0.030679997371661827,
           -0.025847344631418443,
           0.033629676286382915,
           -0.0005756239727821451,
           -0.03108191547883849,
           -0.011573198238972533,
           0.007421469349824489,
           -0.014923782031933404,
           0.029876335883742715,
           -0.003984894762919387,
           0.015347646756348785,
           -0.0009332195652183969,
           0.003517983497156684,
           0.03974967832539239,
           -0.0002755140363992371,
           -0.023309305004952874,
           0.02500064691448747,
           0.06823272710874005,
           0.03006285730698337,
           -0.09278702624909461,
           -0.05401008028607184,
           -0.07195473532748181,
           -0.017400983276209408,
           -0.049595737117549374,
           1,
           -0.07294506917685784,
           -0.06323126810108211,
           -0.0279802981832075,
           -0.10673618579223251,
           -0.05221744487341394,
           -0.033432423342017674,
           -0.030367193427114646,
           0.007225620738159778,
           0.05533190743200214,
           0.013933393322189028,
           -0.04174412559328074
          ],
          [
           -0.0036619540005770465,
           -0.04983178671276043,
           0.04865343232197664,
           -0.08682412882213748,
           -0.029805746837006788,
           0.16324919971432514,
           0.1308973204543035,
           0.05620293223008869,
           0.11816270154415474,
           -0.10834734362486857,
           -0.08513500565369722,
           -0.04277936170528139,
           0.01298855174207559,
           0.012264878932918609,
           0.004780802318228302,
           0.03844614679739463,
           0.021264055189240953,
           -0.022275830877086338,
           -0.023056678796915156,
           -0.006530339833542679,
           0.03985526023703579,
           -0.017328971277053268,
           -0.022308043741873014,
           0.003854621065888823,
           0.02117017901925423,
           0.024736090680404128,
           -0.040913053495730906,
           0.11876129259032549,
           0.08670761402781009,
           -0.18223202424790705,
           -0.12086075188717986,
           -0.1610163022802455,
           -0.038938951973401296,
           -0.110982580412341,
           -0.07294506917685784,
           1,
           -0.14149541280069844,
           -0.06261275411068111,
           -0.23884829646782835,
           -0.1168492921247456,
           -0.074813216368589,
           -0.0679540154516483,
           -0.10357045019581736,
           -0.05553036028342168,
           -0.06713952567298241,
           0.14704370393361887
          ],
          [
           0.009769320364374322,
           -0.036502506095028524,
           0.01962574022603239,
           0.039753137953762466,
           -0.07313305524615005,
           -0.014896960039461444,
           -0.18203213562944542,
           -0.0030610677644766337,
           0.04676267213529732,
           -0.09355143928447521,
           -0.05006749210833057,
           -0.008532753060735154,
           0.0021749590666490593,
           -0.0010893471225527866,
           0.03276555986075338,
           0.02658570548817727,
           0.04977661778839645,
           -0.026359707899609782,
           -0.010806473670037656,
           0.00495505644478779,
           0.012643784867343593,
           -0.017264902870982316,
           -0.03094980947257963,
           -0.0040431619992781645,
           0.013260211943928001,
           0.0029566986847331233,
           -0.01228172785531277,
           -0.3193829635156559,
           -0.06442744765197192,
           0.38831178976779496,
           -0.10476621232544096,
           -0.13957440979927377,
           -0.03375360856586121,
           -0.0962034771615376,
           -0.06323126810108211,
           -0.14149541280069844,
           1,
           -0.05427486581883502,
           -0.20704183078950955,
           -0.10128894250340217,
           -0.06485064165525951,
           -0.05890485289897351,
           -0.07425025379024311,
           -0.03657787679628273,
           -0.02096702064316747,
           0.0855838551845724
          ],
          [
           0.02478477160800905,
           0.052196000016137306,
           -0.02002821760443381,
           0.04383248924752288,
           -0.0759483215677389,
           -0.04110485455449542,
           -0.04430307499420366,
           -0.034640423480848614,
           -0.03057363920511558,
           0.02419197279751432,
           0.025225206846038756,
           0.13534838539959332,
           0.04932861823551244,
           0.0035334334451482974,
           -0.055254888343659415,
           -0.01940257098967371,
           0.00456934034471726,
           0.036883829860533304,
           0.04608488982849154,
           0.002134975489992398,
           -0.012502941387073837,
           0.0235149671227642,
           -0.016708925597144812,
           0.004450964780092761,
           0.004881791715297817,
           -0.030391620327119544,
           0.02898648013043557,
           0.0644025332875475,
           0.006603914248502156,
           -0.07444991328265199,
           -0.046359814509886806,
           -0.061762696245246246,
           -0.01493621843740783,
           -0.04257074162956984,
           -0.0279802981832075,
           -0.06261275411068111,
           -0.05427486581883502,
           1,
           -0.09161752303665278,
           -0.044821097204256206,
           -0.028696882814144134,
           -0.026065827841953985,
           -0.000021323475172205198,
           0.02677636429956246,
           0.044549500908051945,
           -0.04305636381979034
          ],
          [
           -0.11965570288879157,
           -0.10415689897010383,
           -0.0017608026065100116,
           -0.0980725729359988,
           0.43260502469662204,
           0.002778246269487659,
           -0.0145804030278174,
           0.007982994264364818,
           -0.04434775392071583,
           0.028677634548037897,
           -0.025077254776184825,
           -0.1682031300674784,
           -0.039955246117769794,
           0.027695770042158178,
           0.17096865539362216,
           -0.01822653528677848,
           -0.05398168551916736,
           -0.09543426356551904,
           -0.0900530517640009,
           -0.01798198000393722,
           0.06627093802766762,
           -0.03250893552338244,
           -0.009936268019131446,
           -0.03672745241040333,
           0.00928094438243537,
           -0.03193541059860661,
           0.0275992742582713,
           -0.33743807550492916,
           -0.07691551560668858,
           0.4155977908148235,
           -0.1768483574556899,
           -0.23560558855724398,
           -0.056977054916638056,
           -0.16239421603497653,
           -0.10673618579223251,
           -0.23884829646782835,
           -0.20704183078950955,
           -0.09161752303665278,
           1,
           -0.1709786267208651,
           -0.10946973458441153,
           -0.09943307341295159,
           0.03453836023914342,
           -0.012275069662156026,
           -0.09910688070173723,
           0.047688320961351026
          ],
          [
           0.026875079206442345,
           0.028703542978000606,
           0.0005441444997292199,
           0.08186054116239823,
           -0.00021921749349250734,
           0.017719679157117283,
           0.05647074623746425,
           -0.015655113104131792,
           -0.07730670894273345,
           -0.007350016076037305,
           0.019722232222373553,
           -0.02775394635309489,
           -0.052553464004576694,
           -0.008095142941541539,
           -0.025623619775785107,
           0.0455348028409706,
           -0.00582985065948508,
           0.030268719482090686,
           -0.016737373187938002,
           0.02680983276763752,
           -0.019849284053000984,
           -0.004540688787671723,
           -0.008487913352313393,
           0.009096394537852657,
           0.01172944452593631,
           0.03355848614966477,
           -0.04380033414854283,
           0.10812703312302852,
           0.02995933016677558,
           -0.13637593661213457,
           -0.08651770051416147,
           -0.11526289553108147,
           -0.027874297756436694,
           -0.07944644977359491,
           -0.05221744487341394,
           -0.1168492921247456,
           -0.10128894250340217,
           -0.044821097204256206,
           -0.1709786267208651,
           1,
           -0.05355475079553383,
           -0.048644618420614384,
           0.06334168342134423,
           0.005001212882125764,
           0.015353276008555706,
           -0.05843926166312556
          ],
          [
           0.056998007001057,
           0.027616985259571986,
           -0.02393083323677154,
           0.057041035367071204,
           -0.09202629998219465,
           -0.03235685435100913,
           0.07217907902762571,
           -0.01254136543014743,
           -0.07151852095759122,
           0.07983293223846816,
           0.055076815353319646,
           0.1305994948840934,
           0.06364770433154796,
           0.00620815267122356,
           -0.0517918861076187,
           -0.019363141192114804,
           0.01292306189434548,
           0.010855557666884777,
           0.07148305259791092,
           0.009363935601773924,
           -0.031119611295303915,
           0.031885294564193825,
           -0.0034538619052622093,
           -0.003120816807912011,
           -0.0017571667976956108,
           -0.013898042202073677,
           0.01600379172175893,
           0.03271703797267435,
           0.06949619226196772,
           -0.07770574836861033,
           -0.055393296190178756,
           -0.07379751974390122,
           -0.017846628175962612,
           -0.05086590024253581,
           -0.033432423342017674,
           -0.074813216368589,
           -0.06485064165525951,
           -0.028696882814144134,
           -0.10946973458441153,
           -0.05355475079553383,
           1,
           -0.03114490722959352,
           0.04462430681588624,
           0.010524292950866621,
           0.1113857955850485,
           -0.11215394144942346
          ],
          [
           0.036352065249775425,
           0.03084609253181214,
           -0.016977067153781715,
           0.04784084138447565,
           -0.08689268061698036,
           -0.04619601065395019,
           -0.06874389539333725,
           -0.012077211473883546,
           -0.04867201040102265,
           0.11090698039237705,
           0.09979544954818413,
           0.12523904851347725,
           0.045263336007741906,
           0.006847415744588508,
           -0.04533257993785871,
           -0.008032407412815438,
           -0.007499064555841563,
           0.03787987765161138,
           0.06294518878082847,
           -0.019142867856926243,
           -0.02349057091168221,
           0.027500278100064106,
           -0.024728626454941963,
           0.0029402934405440666,
           -0.010147735117769006,
           -0.019805139232188344,
           0.028071426099315937,
           0.05345202683057496,
           0.02401713872718375,
           -0.07296866910296974,
           -0.05031459798065285,
           -0.06703144230911516,
           -0.01621037171900504,
           -0.04620229337572666,
           -0.030367193427114646,
           -0.0679540154516483,
           -0.05890485289897351,
           -0.026065827841953985,
           -0.09943307341295159,
           -0.048644618420614384,
           -0.03114490722959352,
           1,
           0.029982556706384344,
           0.050485974391201144,
           0.13507232681456144,
           -0.13713240325092865
          ],
          [
           0.001993686249719973,
           0.01984521555119435,
           -0.02545018825692973,
           0.031039806322748567,
           0.08516674866575011,
           0.007458454793014616,
           -0.07117471965490017,
           -0.03947554484603559,
           -0.08228237419890475,
           0.6087193145248583,
           0.3478002100780384,
           0.02112446905897739,
           -0.04718426794659071,
           0.03876217292240617,
           -0.015957039632333952,
           0.0020065714156446398,
           -0.015544843784983603,
           0.004470572219487383,
           -0.011204554490674616,
           -0.009059338075616057,
           -0.0036843929964222467,
           -0.006768947560700758,
           0.0053548288402294544,
           -0.009655167883266142,
           -0.024843638047166793,
           0.01136408984126043,
           0.0050178925187350405,
           0.1663359949258958,
           -0.005817395860722301,
           -0.17849262704970464,
           0.06792580433137765,
           -0.06260006225097026,
           0.0026307141496422592,
           0.06097031727530421,
           0.007225620738159778,
           -0.10357045019581736,
           -0.07425025379024311,
           -0.000021323475172205198,
           0.03453836023914342,
           0.06334168342134423,
           0.04462430681588624,
           0.029982556706384344,
           1,
           -0.07849387704687144,
           -0.11277406033284715,
           -0.6067363402175524
          ],
          [
           -0.02094247550888412,
           0.01510330857037633,
           -0.017922614415047222,
           0.02811065196117866,
           0.009830479488261922,
           -0.019288673246026906,
           -0.008806331153088065,
           -0.009497450494607498,
           -0.024854320655611262,
           0.3380488824249435,
           0.3188876713801625,
           0.03931869994415358,
           0.011126297546426954,
           0.008043750186533324,
           0.003622215772486921,
           -0.022674357892707588,
           -0.008927595808436077,
           0.010844595106576017,
           -0.0029263358338451426,
           0.004925746317957108,
           -0.01545380468007501,
           0.040725499822316644,
           -0.0113113458577539,
           -0.012523900054916487,
           -0.008729892757189703,
           -0.03003807525168892,
           0.037986842472780474,
           0.09150598967158742,
           0.014166535535796016,
           -0.10866624075402398,
           0.04145828235173787,
           -0.04044412956874822,
           0.03686060409353312,
           0.038670529267950934,
           0.05533190743200214,
           -0.05553036028342168,
           -0.03657787679628273,
           0.02677636429956246,
           -0.012275069662156026,
           0.005001212882125764,
           0.010524292950866621,
           0.050485974391201144,
           -0.07849387704687144,
           1,
           -0.07180635774543107,
           -0.38632577894444464
          ],
          [
           0.06000890966347141,
           0.07048885498377068,
           -0.04150982152914484,
           0.07335818622594595,
           -0.13447717252380603,
           -0.08209754720782142,
           -0.04436641795742859,
           -0.02597129254434458,
           -0.09425952012979257,
           0.3262145474583717,
           0.32897826482389897,
           0.2884909754116557,
           0.0645227994469584,
           0.004627640162229428,
           -0.07449371830825,
           -0.03415471147222022,
           -0.005594201423931102,
           0.0359951502960619,
           0.07000563871596191,
           -0.0008815625732956606,
           -0.02810879838368516,
           0.06061888600465202,
           -0.01861348496225943,
           0.030416198532916307,
           -0.020205764553925396,
           -0.008540847384458244,
           0.023010181988018512,
           0.14841955101719995,
           0.0002537093520180461,
           -0.16254990574411074,
           -0.0007674700367088695,
           0.007390012602135588,
           0.06870550744490715,
           0.035523789685934365,
           0.013933393322189028,
           -0.06713952567298241,
           -0.02096702064316747,
           0.044549500908051945,
           -0.09910688070173723,
           0.015353276008555706,
           0.1113857955850485,
           0.13507232681456144,
           -0.11277406033284715,
           -0.07180635774543107,
           1,
           -0.5550436332352285
          ],
          [
           -0.031455100217259224,
           -0.0690690439179032,
           0.05503206204127585,
           -0.08545634421066671,
           0.024082156440090575,
           0.059234591547944755,
           0.08544194506641996,
           0.050570696828781535,
           0.13484230294349264,
           -0.82403133930182,
           -0.628345901448031,
           -0.22830042314545057,
           -0.014778492202417018,
           -0.03500742416563458,
           0.059758290449781544,
           0.032628844321352254,
           0.0193502906456101,
           -0.03272496782296445,
           -0.03750143075154077,
           0.004704861155726407,
           0.029125248741362283,
           -0.055834825651200085,
           0.014195841854569256,
           -0.007315500237846703,
           0.03577139034399428,
           0.012295566671327746,
           -0.037729468300322845,
           -0.26455865072402124,
           -0.002933760554553345,
           0.2912424918489746,
           -0.06882331926373866,
           0.06003733324355173,
           -0.06614520255804411,
           -0.08681310880396056,
           -0.04174412559328074,
           0.14704370393361887,
           0.0855838551845724,
           -0.04305636381979034,
           0.047688320961351026,
           -0.05843926166312556,
           -0.11215394144942346,
           -0.13713240325092865,
           -0.6067363402175524,
           -0.38632577894444464,
           -0.5550436332352285,
           1
          ]
         ]
        }
       ],
       "layout": {
        "coloraxis": {
         "colorscale": [
          [
           0,
           "#0d0887"
          ],
          [
           0.1111111111111111,
           "#46039f"
          ],
          [
           0.2222222222222222,
           "#7201a8"
          ],
          [
           0.3333333333333333,
           "#9c179e"
          ],
          [
           0.4444444444444444,
           "#bd3786"
          ],
          [
           0.5555555555555556,
           "#d8576b"
          ],
          [
           0.6666666666666666,
           "#ed7953"
          ],
          [
           0.7777777777777778,
           "#fb9f3a"
          ],
          [
           0.8888888888888888,
           "#fdca26"
          ],
          [
           1,
           "#f0f921"
          ]
         ]
        },
        "height": 1200,
        "margin": {
         "t": 60
        },
        "template": {
         "data": {
          "bar": [
           {
            "error_x": {
             "color": "#2a3f5f"
            },
            "error_y": {
             "color": "#2a3f5f"
            },
            "marker": {
             "line": {
              "color": "#E5ECF6",
              "width": 0.5
             },
             "pattern": {
              "fillmode": "overlay",
              "size": 10,
              "solidity": 0.2
             }
            },
            "type": "bar"
           }
          ],
          "barpolar": [
           {
            "marker": {
             "line": {
              "color": "#E5ECF6",
              "width": 0.5
             },
             "pattern": {
              "fillmode": "overlay",
              "size": 10,
              "solidity": 0.2
             }
            },
            "type": "barpolar"
           }
          ],
          "carpet": [
           {
            "aaxis": {
             "endlinecolor": "#2a3f5f",
             "gridcolor": "white",
             "linecolor": "white",
             "minorgridcolor": "white",
             "startlinecolor": "#2a3f5f"
            },
            "baxis": {
             "endlinecolor": "#2a3f5f",
             "gridcolor": "white",
             "linecolor": "white",
             "minorgridcolor": "white",
             "startlinecolor": "#2a3f5f"
            },
            "type": "carpet"
           }
          ],
          "choropleth": [
           {
            "colorbar": {
             "outlinewidth": 0,
             "ticks": ""
            },
            "type": "choropleth"
           }
          ],
          "contour": [
           {
            "colorbar": {
             "outlinewidth": 0,
             "ticks": ""
            },
            "colorscale": [
             [
              0,
              "#0d0887"
             ],
             [
              0.1111111111111111,
              "#46039f"
             ],
             [
              0.2222222222222222,
              "#7201a8"
             ],
             [
              0.3333333333333333,
              "#9c179e"
             ],
             [
              0.4444444444444444,
              "#bd3786"
             ],
             [
              0.5555555555555556,
              "#d8576b"
             ],
             [
              0.6666666666666666,
              "#ed7953"
             ],
             [
              0.7777777777777778,
              "#fb9f3a"
             ],
             [
              0.8888888888888888,
              "#fdca26"
             ],
             [
              1,
              "#f0f921"
             ]
            ],
            "type": "contour"
           }
          ],
          "contourcarpet": [
           {
            "colorbar": {
             "outlinewidth": 0,
             "ticks": ""
            },
            "type": "contourcarpet"
           }
          ],
          "heatmap": [
           {
            "colorbar": {
             "outlinewidth": 0,
             "ticks": ""
            },
            "colorscale": [
             [
              0,
              "#0d0887"
             ],
             [
              0.1111111111111111,
              "#46039f"
             ],
             [
              0.2222222222222222,
              "#7201a8"
             ],
             [
              0.3333333333333333,
              "#9c179e"
             ],
             [
              0.4444444444444444,
              "#bd3786"
             ],
             [
              0.5555555555555556,
              "#d8576b"
             ],
             [
              0.6666666666666666,
              "#ed7953"
             ],
             [
              0.7777777777777778,
              "#fb9f3a"
             ],
             [
              0.8888888888888888,
              "#fdca26"
             ],
             [
              1,
              "#f0f921"
             ]
            ],
            "type": "heatmap"
           }
          ],
          "heatmapgl": [
           {
            "colorbar": {
             "outlinewidth": 0,
             "ticks": ""
            },
            "colorscale": [
             [
              0,
              "#0d0887"
             ],
             [
              0.1111111111111111,
              "#46039f"
             ],
             [
              0.2222222222222222,
              "#7201a8"
             ],
             [
              0.3333333333333333,
              "#9c179e"
             ],
             [
              0.4444444444444444,
              "#bd3786"
             ],
             [
              0.5555555555555556,
              "#d8576b"
             ],
             [
              0.6666666666666666,
              "#ed7953"
             ],
             [
              0.7777777777777778,
              "#fb9f3a"
             ],
             [
              0.8888888888888888,
              "#fdca26"
             ],
             [
              1,
              "#f0f921"
             ]
            ],
            "type": "heatmapgl"
           }
          ],
          "histogram": [
           {
            "marker": {
             "pattern": {
              "fillmode": "overlay",
              "size": 10,
              "solidity": 0.2
             }
            },
            "type": "histogram"
           }
          ],
          "histogram2d": [
           {
            "colorbar": {
             "outlinewidth": 0,
             "ticks": ""
            },
            "colorscale": [
             [
              0,
              "#0d0887"
             ],
             [
              0.1111111111111111,
              "#46039f"
             ],
             [
              0.2222222222222222,
              "#7201a8"
             ],
             [
              0.3333333333333333,
              "#9c179e"
             ],
             [
              0.4444444444444444,
              "#bd3786"
             ],
             [
              0.5555555555555556,
              "#d8576b"
             ],
             [
              0.6666666666666666,
              "#ed7953"
             ],
             [
              0.7777777777777778,
              "#fb9f3a"
             ],
             [
              0.8888888888888888,
              "#fdca26"
             ],
             [
              1,
              "#f0f921"
             ]
            ],
            "type": "histogram2d"
           }
          ],
          "histogram2dcontour": [
           {
            "colorbar": {
             "outlinewidth": 0,
             "ticks": ""
            },
            "colorscale": [
             [
              0,
              "#0d0887"
             ],
             [
              0.1111111111111111,
              "#46039f"
             ],
             [
              0.2222222222222222,
              "#7201a8"
             ],
             [
              0.3333333333333333,
              "#9c179e"
             ],
             [
              0.4444444444444444,
              "#bd3786"
             ],
             [
              0.5555555555555556,
              "#d8576b"
             ],
             [
              0.6666666666666666,
              "#ed7953"
             ],
             [
              0.7777777777777778,
              "#fb9f3a"
             ],
             [
              0.8888888888888888,
              "#fdca26"
             ],
             [
              1,
              "#f0f921"
             ]
            ],
            "type": "histogram2dcontour"
           }
          ],
          "mesh3d": [
           {
            "colorbar": {
             "outlinewidth": 0,
             "ticks": ""
            },
            "type": "mesh3d"
           }
          ],
          "parcoords": [
           {
            "line": {
             "colorbar": {
              "outlinewidth": 0,
              "ticks": ""
             }
            },
            "type": "parcoords"
           }
          ],
          "pie": [
           {
            "automargin": true,
            "type": "pie"
           }
          ],
          "scatter": [
           {
            "fillpattern": {
             "fillmode": "overlay",
             "size": 10,
             "solidity": 0.2
            },
            "type": "scatter"
           }
          ],
          "scatter3d": [
           {
            "line": {
             "colorbar": {
              "outlinewidth": 0,
              "ticks": ""
             }
            },
            "marker": {
             "colorbar": {
              "outlinewidth": 0,
              "ticks": ""
             }
            },
            "type": "scatter3d"
           }
          ],
          "scattercarpet": [
           {
            "marker": {
             "colorbar": {
              "outlinewidth": 0,
              "ticks": ""
             }
            },
            "type": "scattercarpet"
           }
          ],
          "scattergeo": [
           {
            "marker": {
             "colorbar": {
              "outlinewidth": 0,
              "ticks": ""
             }
            },
            "type": "scattergeo"
           }
          ],
          "scattergl": [
           {
            "marker": {
             "colorbar": {
              "outlinewidth": 0,
              "ticks": ""
             }
            },
            "type": "scattergl"
           }
          ],
          "scattermapbox": [
           {
            "marker": {
             "colorbar": {
              "outlinewidth": 0,
              "ticks": ""
             }
            },
            "type": "scattermapbox"
           }
          ],
          "scatterpolar": [
           {
            "marker": {
             "colorbar": {
              "outlinewidth": 0,
              "ticks": ""
             }
            },
            "type": "scatterpolar"
           }
          ],
          "scatterpolargl": [
           {
            "marker": {
             "colorbar": {
              "outlinewidth": 0,
              "ticks": ""
             }
            },
            "type": "scatterpolargl"
           }
          ],
          "scatterternary": [
           {
            "marker": {
             "colorbar": {
              "outlinewidth": 0,
              "ticks": ""
             }
            },
            "type": "scatterternary"
           }
          ],
          "surface": [
           {
            "colorbar": {
             "outlinewidth": 0,
             "ticks": ""
            },
            "colorscale": [
             [
              0,
              "#0d0887"
             ],
             [
              0.1111111111111111,
              "#46039f"
             ],
             [
              0.2222222222222222,
              "#7201a8"
             ],
             [
              0.3333333333333333,
              "#9c179e"
             ],
             [
              0.4444444444444444,
              "#bd3786"
             ],
             [
              0.5555555555555556,
              "#d8576b"
             ],
             [
              0.6666666666666666,
              "#ed7953"
             ],
             [
              0.7777777777777778,
              "#fb9f3a"
             ],
             [
              0.8888888888888888,
              "#fdca26"
             ],
             [
              1,
              "#f0f921"
             ]
            ],
            "type": "surface"
           }
          ],
          "table": [
           {
            "cells": {
             "fill": {
              "color": "#EBF0F8"
             },
             "line": {
              "color": "white"
             }
            },
            "header": {
             "fill": {
              "color": "#C8D4E3"
             },
             "line": {
              "color": "white"
             }
            },
            "type": "table"
           }
          ]
         },
         "layout": {
          "annotationdefaults": {
           "arrowcolor": "#2a3f5f",
           "arrowhead": 0,
           "arrowwidth": 1
          },
          "autotypenumbers": "strict",
          "coloraxis": {
           "colorbar": {
            "outlinewidth": 0,
            "ticks": ""
           }
          },
          "colorscale": {
           "diverging": [
            [
             0,
             "#8e0152"
            ],
            [
             0.1,
             "#c51b7d"
            ],
            [
             0.2,
             "#de77ae"
            ],
            [
             0.3,
             "#f1b6da"
            ],
            [
             0.4,
             "#fde0ef"
            ],
            [
             0.5,
             "#f7f7f7"
            ],
            [
             0.6,
             "#e6f5d0"
            ],
            [
             0.7,
             "#b8e186"
            ],
            [
             0.8,
             "#7fbc41"
            ],
            [
             0.9,
             "#4d9221"
            ],
            [
             1,
             "#276419"
            ]
           ],
           "sequential": [
            [
             0,
             "#0d0887"
            ],
            [
             0.1111111111111111,
             "#46039f"
            ],
            [
             0.2222222222222222,
             "#7201a8"
            ],
            [
             0.3333333333333333,
             "#9c179e"
            ],
            [
             0.4444444444444444,
             "#bd3786"
            ],
            [
             0.5555555555555556,
             "#d8576b"
            ],
            [
             0.6666666666666666,
             "#ed7953"
            ],
            [
             0.7777777777777778,
             "#fb9f3a"
            ],
            [
             0.8888888888888888,
             "#fdca26"
            ],
            [
             1,
             "#f0f921"
            ]
           ],
           "sequentialminus": [
            [
             0,
             "#0d0887"
            ],
            [
             0.1111111111111111,
             "#46039f"
            ],
            [
             0.2222222222222222,
             "#7201a8"
            ],
            [
             0.3333333333333333,
             "#9c179e"
            ],
            [
             0.4444444444444444,
             "#bd3786"
            ],
            [
             0.5555555555555556,
             "#d8576b"
            ],
            [
             0.6666666666666666,
             "#ed7953"
            ],
            [
             0.7777777777777778,
             "#fb9f3a"
            ],
            [
             0.8888888888888888,
             "#fdca26"
            ],
            [
             1,
             "#f0f921"
            ]
           ]
          },
          "colorway": [
           "#636efa",
           "#EF553B",
           "#00cc96",
           "#ab63fa",
           "#FFA15A",
           "#19d3f3",
           "#FF6692",
           "#B6E880",
           "#FF97FF",
           "#FECB52"
          ],
          "font": {
           "color": "#2a3f5f"
          },
          "geo": {
           "bgcolor": "white",
           "lakecolor": "white",
           "landcolor": "#E5ECF6",
           "showlakes": true,
           "showland": true,
           "subunitcolor": "white"
          },
          "hoverlabel": {
           "align": "left"
          },
          "hovermode": "closest",
          "mapbox": {
           "style": "light"
          },
          "paper_bgcolor": "white",
          "plot_bgcolor": "#E5ECF6",
          "polar": {
           "angularaxis": {
            "gridcolor": "white",
            "linecolor": "white",
            "ticks": ""
           },
           "bgcolor": "#E5ECF6",
           "radialaxis": {
            "gridcolor": "white",
            "linecolor": "white",
            "ticks": ""
           }
          },
          "scene": {
           "xaxis": {
            "backgroundcolor": "#E5ECF6",
            "gridcolor": "white",
            "gridwidth": 2,
            "linecolor": "white",
            "showbackground": true,
            "ticks": "",
            "zerolinecolor": "white"
           },
           "yaxis": {
            "backgroundcolor": "#E5ECF6",
            "gridcolor": "white",
            "gridwidth": 2,
            "linecolor": "white",
            "showbackground": true,
            "ticks": "",
            "zerolinecolor": "white"
           },
           "zaxis": {
            "backgroundcolor": "#E5ECF6",
            "gridcolor": "white",
            "gridwidth": 2,
            "linecolor": "white",
            "showbackground": true,
            "ticks": "",
            "zerolinecolor": "white"
           }
          },
          "shapedefaults": {
           "line": {
            "color": "#2a3f5f"
           }
          },
          "ternary": {
           "aaxis": {
            "gridcolor": "white",
            "linecolor": "white",
            "ticks": ""
           },
           "baxis": {
            "gridcolor": "white",
            "linecolor": "white",
            "ticks": ""
           },
           "bgcolor": "#E5ECF6",
           "caxis": {
            "gridcolor": "white",
            "linecolor": "white",
            "ticks": ""
           }
          },
          "title": {
           "x": 0.05
          },
          "xaxis": {
           "automargin": true,
           "gridcolor": "white",
           "linecolor": "white",
           "ticks": "",
           "title": {
            "standoff": 15
           },
           "zerolinecolor": "white",
           "zerolinewidth": 2
          },
          "yaxis": {
           "automargin": true,
           "gridcolor": "white",
           "linecolor": "white",
           "ticks": "",
           "title": {
            "standoff": 15
           },
           "zerolinecolor": "white",
           "zerolinewidth": 2
          }
         }
        },
        "width": 1200,
        "xaxis": {
         "anchor": "y",
         "constrain": "domain",
         "domain": [
          0,
          1
         ],
         "scaleanchor": "y"
        },
        "yaxis": {
         "anchor": "x",
         "autorange": "reversed",
         "constrain": "domain",
         "domain": [
          0,
          1
         ]
        }
       }
      }
     },
     "metadata": {},
     "output_type": "display_data"
    }
   ],
   "source": [
    "import plotly.express as px\n",
    "\n",
    "px.imshow(data.corr(),  height=1200, width=1200)"
   ]
  },
  {
   "attachments": {},
   "cell_type": "markdown",
   "id": "b5b4c1a5",
   "metadata": {},
   "source": [
    "### Задания 7 и 8"
   ]
  },
  {
   "cell_type": "code",
   "execution_count": 62,
   "id": "79f3e432",
   "metadata": {},
   "outputs": [],
   "source": [
    "X = data.drop(['deposit'], axis=1)\n",
    "y = data['deposit']\n",
    " \n",
    "X_train, X_test, y_train, y_test = train_test_split(X, y, stratify=y, random_state = 42, test_size = 0.33)"
   ]
  },
  {
   "cell_type": "code",
   "execution_count": 63,
   "id": "e3a097a4",
   "metadata": {},
   "outputs": [
    {
     "data": {
      "text/plain": [
       "(3335, 45)"
      ]
     },
     "execution_count": 63,
     "metadata": {},
     "output_type": "execute_result"
    }
   ],
   "source": [
    "# рассчитайте необходимые показатели\n",
    "X_test.shape"
   ]
  },
  {
   "cell_type": "code",
   "execution_count": 64,
   "id": "2c40216a",
   "metadata": {},
   "outputs": [
    {
     "data": {
      "text/plain": [
       "0.46326836581709147"
      ]
     },
     "execution_count": 64,
     "metadata": {},
     "output_type": "execute_result"
    }
   ],
   "source": [
    "y_test.mean()"
   ]
  },
  {
   "attachments": {},
   "cell_type": "markdown",
   "id": "2e381a4f",
   "metadata": {},
   "source": [
    "### Задание 9"
   ]
  },
  {
   "cell_type": "code",
   "execution_count": 65,
   "id": "0f6e03e0",
   "metadata": {},
   "outputs": [],
   "source": [
    "# с помощью SelectKBest отберите 15 наиболее подходящих признаков"
   ]
  },
  {
   "cell_type": "code",
   "execution_count": 66,
   "id": "f22eb390",
   "metadata": {},
   "outputs": [],
   "source": [
    "selector = SelectKBest(f_classif, k=15)\n",
    "selector.fit(X_train, y_train)\n",
    "selector.get_feature_names_out()\n",
    "X_train_sel = selector.transform(X_train)\n",
    "X_test_sel = selector.transform(X_test)"
   ]
  },
  {
   "attachments": {},
   "cell_type": "markdown",
   "id": "60132ef3",
   "metadata": {},
   "source": [
    "### Задание 10"
   ]
  },
  {
   "cell_type": "code",
   "execution_count": 67,
   "id": "e91b06f3",
   "metadata": {},
   "outputs": [
    {
     "name": "stdout",
     "output_type": "stream",
     "text": [
      "0.46823674223097866\n"
     ]
    }
   ],
   "source": [
    "# нормализуйте данные с помощью minmaxsxaler\n",
    "scaler = preprocessing.MinMaxScaler()\n",
    "scaler.fit(X_train_sel)                           # fit() только на train данных\n",
    "X_train_scaled = scaler.transform(X_train_sel)    # fransform() на train данных\n",
    "X_test_scaled = scaler.transform(X_test_sel)      # fransform() на test данных\n",
    "\n",
    "print(X_test_scaled[:, 0].mean())  # для признака balance, обратите внимание именно на столбец"
   ]
  },
  {
   "attachments": {},
   "cell_type": "markdown",
   "id": "0894c632",
   "metadata": {},
   "source": [
    "# Часть 4: Решение задачи классификации: логистическая регрессия и решающие деревья"
   ]
  },
  {
   "attachments": {},
   "cell_type": "markdown",
   "id": "41b8ff06",
   "metadata": {},
   "source": [
    "### Задание 1"
   ]
  },
  {
   "cell_type": "code",
   "execution_count": 68,
   "id": "8acc0166",
   "metadata": {},
   "outputs": [
    {
     "name": "stdout",
     "output_type": "stream",
     "text": [
      "              precision    recall  f1-score   support\n",
      "\n",
      "           0       0.79      0.87      0.83      1790\n",
      "           1       0.83      0.74      0.78      1545\n",
      "\n",
      "    accuracy                           0.81      3335\n",
      "   macro avg       0.81      0.80      0.81      3335\n",
      "weighted avg       0.81      0.81      0.81      3335\n",
      "\n"
     ]
    }
   ],
   "source": [
    "\n",
    "log_reg = linear_model.LogisticRegression(\n",
    "    solver='sag', \n",
    "    random_state=42, \n",
    "    max_iter=1000 )\n",
    "\n",
    "log_reg.fit(X_train_scaled, y_train)\n",
    "print(metrics.classification_report(y_test, log_reg.predict(X_test_scaled)))\n",
    "# обучите логистическую регрессию и рассчитайте метрики качества"
   ]
  },
  {
   "attachments": {},
   "cell_type": "markdown",
   "id": "29b7e0ba",
   "metadata": {},
   "source": [
    "### Задания 2,3,4"
   ]
  },
  {
   "cell_type": "code",
   "execution_count": 69,
   "id": "c91a588b",
   "metadata": {},
   "outputs": [
    {
     "name": "stdout",
     "output_type": "stream",
     "text": [
      "              precision    recall  f1-score   support\n",
      "\n",
      "           0       0.85      0.77      0.81      1790\n",
      "           1       0.76      0.84      0.80      1545\n",
      "\n",
      "    accuracy                           0.81      3335\n",
      "   macro avg       0.81      0.81      0.81      3335\n",
      "weighted avg       0.81      0.81      0.81      3335\n",
      "\n"
     ]
    }
   ],
   "source": [
    "# обучите решающие деревья, настройте максимальную глубину\n",
    "dt = tree.DecisionTreeClassifier(\n",
    "    criterion='entropy',\n",
    "    random_state=42,\n",
    "    max_depth = 6\n",
    ")\n",
    "\n",
    "dt.fit(X_train_scaled, y_train)\n",
    "print(metrics.classification_report(y_test, dt.predict(X_test_scaled)))"
   ]
  },
  {
   "attachments": {},
   "cell_type": "markdown",
   "id": "fe823c18",
   "metadata": {},
   "source": [
    "### Задание 5"
   ]
  },
  {
   "cell_type": "code",
   "execution_count": 70,
   "id": "63574943",
   "metadata": {},
   "outputs": [
    {
     "name": "stdout",
     "output_type": "stream",
     "text": [
      "{'max_depth': 7, 'min_samples_split': 2}\n",
      "DecisionTreeClassifier(max_depth=7)\n",
      "0.7959385297993128\n"
     ]
    }
   ],
   "source": [
    "# подберите оптимальные параметры с помощью gridsearch\n",
    "from sklearn.model_selection import GridSearchCV\n",
    "\n",
    "parameters =  {'min_samples_split': [2, 5, 7, 10], 'max_depth':[3,5,7]}\n",
    "\n",
    "model_cv = GridSearchCV(tree.DecisionTreeClassifier(), \n",
    "                        parameters,\n",
    "                        cv=3, scoring=('f1'), \n",
    "                        return_train_score=True)\n",
    "\n",
    "model_cv.fit(X_train_scaled, y_train)\n",
    "print(model_cv.best_params_)\n",
    "print(model_cv.best_estimator_)\n",
    "print(model_cv.best_score_)"
   ]
  },
  {
   "attachments": {},
   "cell_type": "markdown",
   "id": "ed0fc831",
   "metadata": {},
   "source": [
    "# Часть 5: Решение задачи классификации: ансамбли моделей и построение прогноза"
   ]
  },
  {
   "attachments": {},
   "cell_type": "markdown",
   "id": "f9e36ff2",
   "metadata": {},
   "source": [
    "### Задание 1"
   ]
  },
  {
   "cell_type": "code",
   "execution_count": 71,
   "id": "e708e3fe",
   "metadata": {},
   "outputs": [
    {
     "name": "stdout",
     "output_type": "stream",
     "text": [
      "              precision    recall  f1-score   support\n",
      "\n",
      "           0       0.85      0.82      0.84      1790\n",
      "           1       0.80      0.83      0.82      1545\n",
      "\n",
      "    accuracy                           0.83      3335\n",
      "   macro avg       0.83      0.83      0.83      3335\n",
      "weighted avg       0.83      0.83      0.83      3335\n",
      "\n",
      "0.8330097087378641\n"
     ]
    }
   ],
   "source": [
    "# обучите на ваших данных случайный лес\n",
    "rf = ensemble.RandomForestClassifier(\n",
    "    n_estimators=100,\n",
    "    criterion='gini',\n",
    "    min_samples_leaf=5,\n",
    "    max_depth=10,\n",
    "    random_state=42\n",
    ")\n",
    "#Обучаем модель\n",
    "rf.fit(X_train_scaled, y_train)\n",
    "print(metrics.classification_report(y_test, rf.predict(X_test_scaled)))\n",
    "print(metrics.recall_score(y_test, rf.predict(X_test_scaled)))"
   ]
  },
  {
   "attachments": {},
   "cell_type": "markdown",
   "id": "71d7b13d",
   "metadata": {},
   "source": [
    "### Задания 2 и 3"
   ]
  },
  {
   "cell_type": "code",
   "execution_count": 72,
   "id": "99f12dfe",
   "metadata": {},
   "outputs": [
    {
     "name": "stdout",
     "output_type": "stream",
     "text": [
      "              precision    recall  f1-score   support\n",
      "\n",
      "           0       0.85      0.82      0.84      1790\n",
      "           1       0.80      0.83      0.82      1545\n",
      "\n",
      "    accuracy                           0.83      3335\n",
      "   macro avg       0.83      0.83      0.83      3335\n",
      "weighted avg       0.83      0.83      0.83      3335\n",
      "\n"
     ]
    }
   ],
   "source": [
    "# используйте для классификации градиентный бустинг и сравните качество со случайным лесом\n",
    "gb = ensemble.GradientBoostingClassifier(\n",
    "    learning_rate=0.05,\n",
    "    n_estimators=300,\n",
    "    min_samples_leaf=5,\n",
    "    max_depth=5,\n",
    "    random_state=42\n",
    ")\n",
    "gb.fit(X_train_scaled, y_train)\n",
    "\n",
    "print(metrics.classification_report(y_test, gb.predict(X_test_scaled)))"
   ]
  },
  {
   "attachments": {},
   "cell_type": "markdown",
   "id": "b08718ae",
   "metadata": {},
   "source": [
    "### Задание 4"
   ]
  },
  {
   "cell_type": "code",
   "execution_count": 73,
   "id": "0bd42fb0",
   "metadata": {},
   "outputs": [
    {
     "data": {
      "text/plain": [
       "StackingClassifier(estimators=[('dt',\n",
       "                                DecisionTreeClassifier(criterion='entropy',\n",
       "                                                       max_depth=6,\n",
       "                                                       min_samples_leaf=5,\n",
       "                                                       random_state=42)),\n",
       "                               ('log_reg',\n",
       "                                LogisticRegression(random_state=42,\n",
       "                                                   solver='sag')),\n",
       "                               ('gb',\n",
       "                                GradientBoostingClassifier(learning_rate=0.05,\n",
       "                                                           max_depth=5,\n",
       "                                                           min_samples_leaf=5,\n",
       "                                                           n_estimators=300,\n",
       "                                                           random_state=42))],\n",
       "                   final_estimator=LogisticRegression(random_state=42))"
      ]
     },
     "execution_count": 73,
     "metadata": {},
     "output_type": "execute_result"
    }
   ],
   "source": [
    "# объедините уже известные вам алгоритмы с помощью стекинга \n",
    "estimators = [\n",
    "    ('dt', tree.DecisionTreeClassifier(\n",
    "        criterion='entropy',\n",
    "        min_samples_leaf=5,\n",
    "        max_depth=6,\n",
    "        random_state=42\n",
    "        )\n",
    "    ),\n",
    "    ('log_reg', linear_model.LogisticRegression(\n",
    "        solver='sag',\n",
    "        random_state=42 \n",
    "        )\n",
    "    ),\n",
    "    ('gb', ensemble.GradientBoostingClassifier(\n",
    "        learning_rate=0.05,\n",
    "        n_estimators=300,\n",
    "        min_samples_leaf=5,\n",
    "        max_depth=5,\n",
    "        random_state=42\n",
    "        )\n",
    "    )\n",
    "]\n",
    "\n",
    "stack = ensemble.StackingClassifier(\n",
    "    estimators,\n",
    "    final_estimator=linear_model.LogisticRegression(random_state=42)\n",
    ")\n",
    "stack.fit(X_train_scaled, y_train)"
   ]
  },
  {
   "cell_type": "code",
   "execution_count": 74,
   "id": "1a41660a",
   "metadata": {},
   "outputs": [
    {
     "name": "stdout",
     "output_type": "stream",
     "text": [
      "              precision    recall  f1-score   support\n",
      "\n",
      "           0       0.84      0.84      0.84      1790\n",
      "           1       0.81      0.81      0.81      1545\n",
      "\n",
      "    accuracy                           0.82      3335\n",
      "   macro avg       0.82      0.82      0.82      3335\n",
      "weighted avg       0.82      0.82      0.82      3335\n",
      "\n",
      "0.8099547511312217\n"
     ]
    }
   ],
   "source": [
    "y_pred = stack.predict(X_test_scaled)\n",
    "print(metrics.classification_report(y_test, y_pred))\n",
    "print(metrics.precision_score(y_test, y_pred))"
   ]
  },
  {
   "attachments": {},
   "cell_type": "markdown",
   "id": "6247a5fb",
   "metadata": {},
   "source": [
    "### Задание 5"
   ]
  },
  {
   "cell_type": "code",
   "execution_count": 75,
   "id": "35de769c",
   "metadata": {},
   "outputs": [],
   "source": [
    "# оцените, какие признаки демонстрируют наибольшую  важность в модели градиентного бустинга"
   ]
  },
  {
   "attachments": {},
   "cell_type": "markdown",
   "id": "96974dda",
   "metadata": {},
   "source": [
    "### Задания 6,7,8"
   ]
  },
  {
   "cell_type": "code",
   "execution_count": 76,
   "id": "c48e29e9",
   "metadata": {},
   "outputs": [],
   "source": [
    "# реализуйте оптимизацию гиперпараметров с помощью Optuna\n",
    "import optuna"
   ]
  },
  {
   "cell_type": "code",
   "execution_count": 77,
   "id": "4ff32500",
   "metadata": {},
   "outputs": [],
   "source": [
    "def optuna_rf(trial):\n",
    "  # задаем пространства поиска гиперпараметров\n",
    "  n_estimators = trial.suggest_int('n_estimators', 100, 200, 1)\n",
    "  max_depth = trial.suggest_int('max_depth', 10, 30, 1)\n",
    "  min_samples_leaf = trial.suggest_int('min_samples_leaf', 2, 10, 1)\n",
    "\n",
    "  # создаем модель\n",
    "  model = ensemble.RandomForestClassifier(n_estimators=n_estimators,\n",
    "                                          max_depth=max_depth,\n",
    "                                          min_samples_leaf=min_samples_leaf,\n",
    "                                          random_state=42)\n",
    "  # обучаем модель\n",
    "  model.fit(X_train_scaled, y_train)\n",
    "  score = metrics.f1_score(y_train, model.predict(X_train_scaled))\n",
    "\n",
    "  return score"
   ]
  },
  {
   "cell_type": "code",
   "execution_count": 78,
   "id": "a1cffbf0",
   "metadata": {},
   "outputs": [
    {
     "name": "stderr",
     "output_type": "stream",
     "text": [
      "\u001b[32m[I 2023-11-20 12:57:17,474]\u001b[0m A new study created in memory with name: RandomForestClassifier\u001b[0m\n",
      "\u001b[32m[I 2023-11-20 12:57:18,938]\u001b[0m Trial 0 finished with value: 0.8530331457160727 and parameters: {'n_estimators': 123, 'max_depth': 19, 'min_samples_leaf': 8}. Best is trial 0 with value: 0.8530331457160727.\u001b[0m\n",
      "\u001b[32m[I 2023-11-20 12:57:21,200]\u001b[0m Trial 1 finished with value: 0.9088909833490418 and parameters: {'n_estimators': 180, 'max_depth': 17, 'min_samples_leaf': 2}. Best is trial 1 with value: 0.9088909833490418.\u001b[0m\n",
      "\u001b[32m[I 2023-11-20 12:57:22,171]\u001b[0m Trial 2 finished with value: 0.8454159459034439 and parameters: {'n_estimators': 120, 'max_depth': 22, 'min_samples_leaf': 10}. Best is trial 1 with value: 0.9088909833490418.\u001b[0m\n",
      "\u001b[32m[I 2023-11-20 12:57:23,665]\u001b[0m Trial 3 finished with value: 0.8623595505617978 and parameters: {'n_estimators': 160, 'max_depth': 15, 'min_samples_leaf': 5}. Best is trial 1 with value: 0.9088909833490418.\u001b[0m\n",
      "\u001b[32m[I 2023-11-20 12:57:25,497]\u001b[0m Trial 4 finished with value: 0.8926059090198531 and parameters: {'n_estimators': 147, 'max_depth': 22, 'min_samples_leaf': 3}. Best is trial 1 with value: 0.9088909833490418.\u001b[0m\n",
      "\u001b[32m[I 2023-11-20 12:57:27,038]\u001b[0m Trial 5 finished with value: 0.8776595744680852 and parameters: {'n_estimators': 116, 'max_depth': 23, 'min_samples_leaf': 4}. Best is trial 1 with value: 0.9088909833490418.\u001b[0m\n",
      "\u001b[32m[I 2023-11-20 12:57:29,762]\u001b[0m Trial 6 finished with value: 0.8509238960225493 and parameters: {'n_estimators': 161, 'max_depth': 29, 'min_samples_leaf': 9}. Best is trial 1 with value: 0.9088909833490418.\u001b[0m\n",
      "\u001b[32m[I 2023-11-20 12:57:31,502]\u001b[0m Trial 7 finished with value: 0.8608424336973479 and parameters: {'n_estimators': 159, 'max_depth': 21, 'min_samples_leaf': 6}. Best is trial 1 with value: 0.9088909833490418.\u001b[0m\n",
      "\u001b[32m[I 2023-11-20 12:57:33,378]\u001b[0m Trial 8 finished with value: 0.8494741798775702 and parameters: {'n_estimators': 157, 'max_depth': 11, 'min_samples_leaf': 8}. Best is trial 1 with value: 0.9088909833490418.\u001b[0m\n",
      "\u001b[32m[I 2023-11-20 12:57:34,766]\u001b[0m Trial 9 finished with value: 0.8463594904859255 and parameters: {'n_estimators': 175, 'max_depth': 10, 'min_samples_leaf': 7}. Best is trial 1 with value: 0.9088909833490418.\u001b[0m\n",
      "\u001b[32m[I 2023-11-20 12:57:36,900]\u001b[0m Trial 10 finished with value: 0.9034081985236375 and parameters: {'n_estimators': 198, 'max_depth': 16, 'min_samples_leaf': 2}. Best is trial 1 with value: 0.9088909833490418.\u001b[0m\n",
      "\u001b[32m[I 2023-11-20 12:57:38,938]\u001b[0m Trial 11 finished with value: 0.9036617947509037 and parameters: {'n_estimators': 200, 'max_depth': 16, 'min_samples_leaf': 2}. Best is trial 1 with value: 0.9088909833490418.\u001b[0m\n",
      "\u001b[32m[I 2023-11-20 12:57:41,029]\u001b[0m Trial 12 finished with value: 0.8981904012588512 and parameters: {'n_estimators': 200, 'max_depth': 15, 'min_samples_leaf': 2}. Best is trial 1 with value: 0.9088909833490418.\u001b[0m\n",
      "\u001b[32m[I 2023-11-20 12:57:43,043]\u001b[0m Trial 13 finished with value: 0.876780961327697 and parameters: {'n_estimators': 183, 'max_depth': 18, 'min_samples_leaf': 4}. Best is trial 1 with value: 0.9088909833490418.\u001b[0m\n",
      "\u001b[32m[I 2023-11-20 12:57:45,141]\u001b[0m Trial 14 finished with value: 0.9250824564158945 and parameters: {'n_estimators': 187, 'max_depth': 25, 'min_samples_leaf': 2}. Best is trial 14 with value: 0.9250824564158945.\u001b[0m\n",
      "\u001b[32m[I 2023-11-20 12:57:47,563]\u001b[0m Trial 15 finished with value: 0.8797874003439112 and parameters: {'n_estimators': 182, 'max_depth': 26, 'min_samples_leaf': 4}. Best is trial 14 with value: 0.9250824564158945.\u001b[0m\n",
      "\u001b[32m[I 2023-11-20 12:57:49,988]\u001b[0m Trial 16 finished with value: 0.8927119174225837 and parameters: {'n_estimators': 139, 'max_depth': 26, 'min_samples_leaf': 3}. Best is trial 14 with value: 0.9250824564158945.\u001b[0m\n",
      "\u001b[32m[I 2023-11-20 12:57:52,227]\u001b[0m Trial 17 finished with value: 0.8653456077391168 and parameters: {'n_estimators': 172, 'max_depth': 30, 'min_samples_leaf': 5}. Best is trial 14 with value: 0.9250824564158945.\u001b[0m\n",
      "\u001b[32m[I 2023-11-20 12:57:54,408]\u001b[0m Trial 18 finished with value: 0.8944817883382834 and parameters: {'n_estimators': 187, 'max_depth': 25, 'min_samples_leaf': 3}. Best is trial 14 with value: 0.9250824564158945.\u001b[0m\n",
      "\u001b[32m[I 2023-11-20 12:57:56,234]\u001b[0m Trial 19 finished with value: 0.8579927978706747 and parameters: {'n_estimators': 171, 'max_depth': 13, 'min_samples_leaf': 6}. Best is trial 14 with value: 0.9250824564158945.\u001b[0m\n"
     ]
    },
    {
     "name": "stdout",
     "output_type": "stream",
     "text": [
      "CPU times: total: 36.8 s\n",
      "Wall time: 38.8 s\n"
     ]
    }
   ],
   "source": [
    "%%time\n",
    "# cоздаем объект исследования\n",
    "# можем напрямую указать, что нам необходимо максимизировать метрику direction=\"maximize\"\n",
    "study = optuna.create_study(study_name=\"RandomForestClassifier\", direction=\"maximize\")\n",
    "# ищем лучшую комбинацию гиперпараметров n_trials раз\n",
    "study.optimize(optuna_rf, n_trials=20)"
   ]
  },
  {
   "cell_type": "code",
   "execution_count": 79,
   "id": "1169599c",
   "metadata": {},
   "outputs": [
    {
     "name": "stdout",
     "output_type": "stream",
     "text": [
      "Наилучшие значения гиперпараметров {'n_estimators': 187, 'max_depth': 25, 'min_samples_leaf': 2}\n",
      "f1_score на обучающем наборе: 0.93\n"
     ]
    }
   ],
   "source": [
    "# выводим результаты на обучающей выборке\n",
    "print(\"Наилучшие значения гиперпараметров {}\".format(study.best_params))\n",
    "print(\"f1_score на обучающем наборе: {:.2f}\".format(study.best_value))"
   ]
  },
  {
   "cell_type": "code",
   "execution_count": 80,
   "id": "49a10faf",
   "metadata": {},
   "outputs": [
    {
     "name": "stdout",
     "output_type": "stream",
     "text": [
      "f1_score на тестовом наборе: 0.82\n"
     ]
    }
   ],
   "source": [
    "# рассчитаем точность для тестовой выборки\n",
    "model = ensemble.RandomForestClassifier(**study.best_params,random_state=42, )\n",
    "model.fit(X_train_scaled, y_train)\n",
    "\n",
    "y_test_pred = model.predict(X_test_scaled)\n",
    "print('f1_score на тестовом наборе: {:.2f}'.format(metrics.f1_score(y_test, y_test_pred)))"
   ]
  },
  {
   "cell_type": "code",
   "execution_count": 81,
   "id": "9f7d36c6",
   "metadata": {},
   "outputs": [
    {
     "name": "stdout",
     "output_type": "stream",
     "text": [
      "0.8257871064467767\n"
     ]
    }
   ],
   "source": [
    "print(metrics.accuracy_score(y_test, y_test_pred))"
   ]
  }
 ],
 "metadata": {
  "kernelspec": {
   "display_name": "Python 3 (ipykernel)",
   "language": "python",
   "name": "python3"
  },
  "language_info": {
   "codemirror_mode": {
    "name": "ipython",
    "version": 3
   },
   "file_extension": ".py",
   "mimetype": "text/x-python",
   "name": "python",
   "nbconvert_exporter": "python",
   "pygments_lexer": "ipython3",
   "version": "3.9.10"
  }
 },
 "nbformat": 4,
 "nbformat_minor": 5
}
